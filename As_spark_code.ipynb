{
  "cells": [
    {
      "cell_type": "markdown",
      "metadata": {
        "id": "eDfDhOa0ga00"
      },
      "source": [
        "# Spark Preparation\n",
        "We check if we are in Google Colab.  If this is the case, install all necessary packages.\n",
        "\n",
        "To run spark in Colab, we need to first install all the dependencies in Colab environment i.e. Apache Spark 3.2.1 with hadoop 3.2, Java 8 and Findspark to locate the spark in the system. The tools installation can be carried out inside the Jupyter Notebook of the Colab.\n",
        "Learn more from [A Must-Read Guide on How to Work with PySpark on Google Colab for Data Scientists!](https://www.analyticsvidhya.com/blog/2020/11/a-must-read-guide-on-how-to-work-with-pyspark-on-google-colab-for-data-scientists/)"
      ]
    },
    {
      "cell_type": "code",
      "execution_count": null,
      "metadata": {
        "id": "fyslFlBQga0-"
      },
      "outputs": [],
      "source": [
        "try:\n",
        "  import google.colab\n",
        "  IN_COLAB = True\n",
        "except:\n",
        "  IN_COLAB = False"
      ]
    },
    {
      "cell_type": "code",
      "source": [
        "from google.colab import drive\n",
        "drive.mount('/content/drive')"
      ],
      "metadata": {
        "colab": {
          "base_uri": "https://localhost:8080/"
        },
        "id": "37n9YjFBggUr",
        "outputId": "5d8db7df-4c63-41b5-d2b4-fda845e47273"
      },
      "execution_count": null,
      "outputs": [
        {
          "output_type": "stream",
          "name": "stdout",
          "text": [
            "Mounted at /content/drive\n"
          ]
        }
      ]
    },
    {
      "cell_type": "code",
      "source": [
        "if IN_COLAB:\n",
        "    !apt-get install openjdk-8-jdk-headless -qq > /dev/null\n",
        "    !wget https://dlcdn.apache.org/spark/spark-3.3.1/spark-3.3.1-bin-hadoop2.tgz\n",
        "    !tar xf spark-3.3.1-bin-hadoop2.tgz\n",
        "    !mv spark-3.3.1-bin-hadoop2 spark\n",
        "    !pip install -q findspark\n"
      ],
      "metadata": {
        "colab": {
          "base_uri": "https://localhost:8080/"
        },
        "id": "D0L3l__Zw9Fo",
        "outputId": "540053a6-0ea8-4b11-c167-74f1f9939473"
      },
      "execution_count": null,
      "outputs": [
        {
          "output_type": "stream",
          "name": "stdout",
          "text": [
            "--2022-11-05 06:20:15--  https://dlcdn.apache.org/spark/spark-3.3.1/spark-3.3.1-bin-hadoop2.tgz\n",
            "Resolving dlcdn.apache.org (dlcdn.apache.org)... 151.101.2.132, 2a04:4e42::644\n",
            "Connecting to dlcdn.apache.org (dlcdn.apache.org)|151.101.2.132|:443... connected.\n",
            "HTTP request sent, awaiting response... 200 OK\n",
            "Length: 274099817 (261M) [application/x-gzip]\n",
            "Saving to: ‘spark-3.3.1-bin-hadoop2.tgz’\n",
            "\n",
            "spark-3.3.1-bin-had 100%[===================>] 261.40M   255MB/s    in 1.0s    \n",
            "\n",
            "2022-11-05 06:20:17 (255 MB/s) - ‘spark-3.3.1-bin-hadoop2.tgz’ saved [274099817/274099817]\n",
            "\n"
          ]
        }
      ]
    },
    {
      "cell_type": "code",
      "source": [
        "import os\n",
        "os.environ[\"JAVA_HOME\"] = \"/usr/lib/jvm/java-8-openjdk-amd64\"\n",
        "os.environ[\"SPARK_HOME\"] = \"/content/spark\""
      ],
      "metadata": {
        "id": "4ymu-GjPx7VN"
      },
      "execution_count": null,
      "outputs": []
    },
    {
      "cell_type": "code",
      "source": [
        "# # innstall java\n",
        "# !apt-get install openjdk-8-jdk-headless -qq > /dev/null\n",
        "\n",
        "# # install spark (change the version number if needed)\n",
        "# !wget -q https://archive.apache.org/dist/spark/spark-3.0.0/spark-3.0.0-bin-hadoop3.2.tgz\n",
        "\n",
        "# # unzip the spark file to the current folder\n",
        "# !tar xf spark-3.0.0-bin-hadoop3.2.tgz\n",
        "\n",
        "# # set your spark folder to your system path environment. \n",
        "# import os\n",
        "# os.environ[\"JAVA_HOME\"] = \"/usr/lib/jvm/java-8-openjdk-amd64\"\n",
        "# os.environ[\"SPARK_HOME\"] = \"/content/spark-3.0.0-bin-hadoop3.2\"\n",
        "\n",
        "\n",
        "# # install findspark using pip\n",
        "# !pip install -q findspark"
      ],
      "metadata": {
        "id": "Mak2VTcGghw7",
        "colab": {
          "base_uri": "https://localhost:8080/"
        },
        "outputId": "07dde1a5-650f-48c3-d0cd-ad39057ff1f9"
      },
      "execution_count": null,
      "outputs": [
        {
          "output_type": "stream",
          "name": "stdout",
          "text": [
            "^C\n",
            "\n",
            "gzip: stdin: unexpected end of file\n",
            "tar: Unexpected EOF in archive\n",
            "tar: Unexpected EOF in archive\n",
            "tar: Error is not recoverable: exiting now\n"
          ]
        }
      ]
    },
    {
      "cell_type": "markdown",
      "metadata": {
        "id": "NfNJp2NBga1C"
      },
      "source": [
        "# Start a Local Cluster"
      ]
    },
    {
      "cell_type": "code",
      "execution_count": null,
      "metadata": {
        "id": "Z8QEffqlga1C"
      },
      "outputs": [],
      "source": [
        "import findspark\n",
        "findspark.init()"
      ]
    },
    {
      "cell_type": "code",
      "source": [
        "spark_url = 'local'"
      ],
      "metadata": {
        "id": "4ol-AVfhgok4"
      },
      "execution_count": null,
      "outputs": []
    },
    {
      "cell_type": "code",
      "source": [
        "from pyspark.sql import SparkSession\n",
        "from pyspark.sql.functions import col"
      ],
      "metadata": {
        "id": "Bb6IdLu9gpzu"
      },
      "execution_count": null,
      "outputs": []
    },
    {
      "cell_type": "code",
      "source": [
        "spark = SparkSession.builder\\\n",
        "        .master(spark_url)\\\n",
        "        .appName('Spark SQL')\\\n",
        "        .getOrCreate()"
      ],
      "metadata": {
        "id": "zsVTcbB2gq7v"
      },
      "execution_count": null,
      "outputs": []
    },
    {
      "cell_type": "markdown",
      "metadata": {
        "id": "FRIWYCgVga1D"
      },
      "source": [
        "# Spark Assignment\n",
        "\n",
        "Based on the movie review dataset in 'netflix-rotten-tomatoes-metacritic-imdb.csv', answer the below questions.\n",
        "\n",
        "**Note:** do not clean or remove missing data"
      ]
    },
    {
      "cell_type": "code",
      "execution_count": null,
      "metadata": {
        "id": "QW72-fp8ga1D"
      },
      "outputs": [],
      "source": [
        "path = '/content/drive/MyDrive/data_engineerclass/netflix-rotten-tomatoes-metacritic-imdb.csv'\n",
        "df = spark.read.option(\"delimiter\", \",\").option(\"header\", True).csv(path)"
      ]
    },
    {
      "cell_type": "code",
      "source": [
        "df.show(5)"
      ],
      "metadata": {
        "colab": {
          "base_uri": "https://localhost:8080/"
        },
        "id": "4wi1BuGGho5V",
        "outputId": "5b089cd7-952a-4667-ee8b-c8123b3ad44e"
      },
      "execution_count": null,
      "outputs": [
        {
          "output_type": "stream",
          "name": "stdout",
          "text": [
            "+-------------------+--------------------+--------------------+----------------+---------------+----------------+--------------------+------------+---------------+--------------------+--------------------+-----------+----------+---------------------+----------------+---------------+--------------------+----------+------------+--------------------+--------------------+--------------------+--------------------+--------------------+----------+--------------------+--------------------+--------------------+------------+\n",
            "|              Title|               Genre|                Tags|       Languages|Series or Movie|Hidden Gem Score|Country Availability|     Runtime|       Director|              Writer|              Actors|View Rating|IMDb Score|Rotten Tomatoes Score|Metacritic Score|Awards Received|Awards Nominated For| Boxoffice|Release Date|Netflix Release Date|    Production House|        Netflix Link|           IMDb Link|             Summary|IMDb Votes|               Image|              Poster|        TMDb Trailer|Trailer Site|\n",
            "+-------------------+--------------------+--------------------+----------------+---------------+----------------+--------------------+------------+---------------+--------------------+--------------------+-----------+----------+---------------------+----------------+---------------+--------------------+----------+------------+--------------------+--------------------+--------------------+--------------------+--------------------+----------+--------------------+--------------------+--------------------+------------+\n",
            "|   Lets Fight Ghost|Crime, Drama, Fan...|Comedy Programmes...|Swedish, Spanish|         Series|             4.3|            Thailand|< 30 minutes|Tomas Alfredson|John Ajvide Lindq...|Kåre Hedebrant, P...|          R|       7.9|                 98.0|            82.0|           74.0|                57.0|$2,122,065| 12 Dec 2008|          2021-03-04|Canal+, Sandrew M...|https://www.netfl...|https://www.imdb....|A med student wit...|  205926.0|https://occ-0-470...|https://m.media-a...|                null|        null|\n",
            "|HOW TO BUILD A GIRL|              Comedy|Dramas,Comedies,F...|         English|          Movie|             7.0|              Canada|    1-2 hour|  Coky Giedroyc|       Caitlin Moran|Paddy Considine, ...|          R|       5.8|                 79.0|            69.0|            1.0|                null|   $70,632| 08 May 2020|          2021-03-04|Film 4, Monumenta...|https://www.netfl...|https://www.imdb....|When nerdy Johann...|    2838.0|https://occ-0-108...|https://m.media-a...|https://www.youtu...|     YouTube|\n",
            "|         Centigrade|     Drama, Thriller|           Thrillers|         English|          Movie|             6.4|              Canada|    1-2 hour|  Brendan Walsh|Brendan Walsh, Da...|Genesis Rodriguez...|    Unrated|       4.3|                 null|            46.0|           null|                null|   $16,263| 28 Aug 2020|          2021-03-04|                null|https://www.netfl...|https://www.imdb....|Trapped in a froz...|    1720.0|https://occ-0-108...|https://m.media-a...|https://www.youtu...|     YouTube|\n",
            "|              ANNE+|               Drama|TV Dramas,Romanti...|         Turkish|         Series|             7.7| Belgium,Netherlands|< 30 minutes|           null|                null|Vahide Perçin, Go...|       null|       6.5|                 null|            null|            1.0|                null|      null| 01 Oct 2016|          2021-03-04|                null|https://www.netfl...|https://www.imdb....|Upon moving into ...|    1147.0|https://occ-0-148...|https://m.media-a...|                null|        null|\n",
            "|              Moxie|Animation, Short,...|Social Issue Dram...|         English|          Movie|             8.1|Lithuania,Poland,...|    1-2 hour|  Stephen Irwin|                null|        Ragga Gudrun|       null|       6.3|                 null|            null|           null|                 4.0|      null| 22 Sep 2011|          2021-03-04|                null|https://www.netfl...|https://www.imdb....|Inspired by her m...|      63.0|https://occ-0-403...|https://m.media-a...|                null|        null|\n",
            "+-------------------+--------------------+--------------------+----------------+---------------+----------------+--------------------+------------+---------------+--------------------+--------------------+-----------+----------+---------------------+----------------+---------------+--------------------+----------+------------+--------------------+--------------------+--------------------+--------------------+--------------------+----------+--------------------+--------------------+--------------------+------------+\n",
            "only showing top 5 rows\n",
            "\n"
          ]
        }
      ]
    },
    {
      "cell_type": "code",
      "source": [
        "df.columns\n",
        "cols = [c.replace(' ', '_') for c in df.columns]\n",
        "df = df.toDF(*cols)"
      ],
      "metadata": {
        "id": "LS6J-SSdg_C4"
      },
      "execution_count": null,
      "outputs": []
    },
    {
      "cell_type": "code",
      "source": [
        "df.columns"
      ],
      "metadata": {
        "colab": {
          "base_uri": "https://localhost:8080/"
        },
        "id": "VyNOZ6EThOPg",
        "outputId": "8aaec50b-0718-476e-b3e8-6a8c6b904c34"
      },
      "execution_count": null,
      "outputs": [
        {
          "output_type": "execute_result",
          "data": {
            "text/plain": [
              "['Title',\n",
              " 'Genre',\n",
              " 'Tags',\n",
              " 'Languages',\n",
              " 'Series_or_Movie',\n",
              " 'Hidden_Gem_Score',\n",
              " 'Country_Availability',\n",
              " 'Runtime',\n",
              " 'Director',\n",
              " 'Writer',\n",
              " 'Actors',\n",
              " 'View_Rating',\n",
              " 'IMDb_Score',\n",
              " 'Rotten_Tomatoes_Score',\n",
              " 'Metacritic_Score',\n",
              " 'Awards_Received',\n",
              " 'Awards_Nominated_For',\n",
              " 'Boxoffice',\n",
              " 'Release_Date',\n",
              " 'Netflix_Release_Date',\n",
              " 'Production_House',\n",
              " 'Netflix_Link',\n",
              " 'IMDb_Link',\n",
              " 'Summary',\n",
              " 'IMDb_Votes',\n",
              " 'Image',\n",
              " 'Poster',\n",
              " 'TMDb_Trailer',\n",
              " 'Trailer_Site']"
            ]
          },
          "metadata": {},
          "execution_count": 12
        }
      ]
    },
    {
      "cell_type": "code",
      "source": [
        "df.show(5)"
      ],
      "metadata": {
        "colab": {
          "base_uri": "https://localhost:8080/"
        },
        "id": "tpn4HKwByTJd",
        "outputId": "7c835b0c-a434-4d2d-dc7c-6cd33f9c7dd4"
      },
      "execution_count": null,
      "outputs": [
        {
          "output_type": "stream",
          "name": "stdout",
          "text": [
            "+-------------------+--------------------+--------------------+----------------+---------------+----------------+--------------------+------------+---------------+--------------------+--------------------+-----------+----------+---------------------+----------------+---------------+--------------------+----------+------------+--------------------+--------------------+--------------------+--------------------+--------------------+----------+--------------------+--------------------+--------------------+------------+\n",
            "|              Title|               Genre|                Tags|       Languages|Series_or_Movie|Hidden_Gem_Score|Country_Availability|     Runtime|       Director|              Writer|              Actors|View_Rating|IMDb_Score|Rotten_Tomatoes_Score|Metacritic_Score|Awards_Received|Awards_Nominated_For| Boxoffice|Release_Date|Netflix_Release_Date|    Production_House|        Netflix_Link|           IMDb_Link|             Summary|IMDb_Votes|               Image|              Poster|        TMDb_Trailer|Trailer_Site|\n",
            "+-------------------+--------------------+--------------------+----------------+---------------+----------------+--------------------+------------+---------------+--------------------+--------------------+-----------+----------+---------------------+----------------+---------------+--------------------+----------+------------+--------------------+--------------------+--------------------+--------------------+--------------------+----------+--------------------+--------------------+--------------------+------------+\n",
            "|   Lets Fight Ghost|Crime, Drama, Fan...|Comedy Programmes...|Swedish, Spanish|         Series|             4.3|            Thailand|< 30 minutes|Tomas Alfredson|John Ajvide Lindq...|Kåre Hedebrant, P...|          R|       7.9|                 98.0|            82.0|           74.0|                57.0|$2,122,065| 12 Dec 2008|          2021-03-04|Canal+, Sandrew M...|https://www.netfl...|https://www.imdb....|A med student wit...|  205926.0|https://occ-0-470...|https://m.media-a...|                null|        null|\n",
            "|HOW TO BUILD A GIRL|              Comedy|Dramas,Comedies,F...|         English|          Movie|             7.0|              Canada|    1-2 hour|  Coky Giedroyc|       Caitlin Moran|Paddy Considine, ...|          R|       5.8|                 79.0|            69.0|            1.0|                null|   $70,632| 08 May 2020|          2021-03-04|Film 4, Monumenta...|https://www.netfl...|https://www.imdb....|When nerdy Johann...|    2838.0|https://occ-0-108...|https://m.media-a...|https://www.youtu...|     YouTube|\n",
            "|         Centigrade|     Drama, Thriller|           Thrillers|         English|          Movie|             6.4|              Canada|    1-2 hour|  Brendan Walsh|Brendan Walsh, Da...|Genesis Rodriguez...|    Unrated|       4.3|                 null|            46.0|           null|                null|   $16,263| 28 Aug 2020|          2021-03-04|                null|https://www.netfl...|https://www.imdb....|Trapped in a froz...|    1720.0|https://occ-0-108...|https://m.media-a...|https://www.youtu...|     YouTube|\n",
            "|              ANNE+|               Drama|TV Dramas,Romanti...|         Turkish|         Series|             7.7| Belgium,Netherlands|< 30 minutes|           null|                null|Vahide Perçin, Go...|       null|       6.5|                 null|            null|            1.0|                null|      null| 01 Oct 2016|          2021-03-04|                null|https://www.netfl...|https://www.imdb....|Upon moving into ...|    1147.0|https://occ-0-148...|https://m.media-a...|                null|        null|\n",
            "|              Moxie|Animation, Short,...|Social Issue Dram...|         English|          Movie|             8.1|Lithuania,Poland,...|    1-2 hour|  Stephen Irwin|                null|        Ragga Gudrun|       null|       6.3|                 null|            null|           null|                 4.0|      null| 22 Sep 2011|          2021-03-04|                null|https://www.netfl...|https://www.imdb....|Inspired by her m...|      63.0|https://occ-0-403...|https://m.media-a...|                null|        null|\n",
            "+-------------------+--------------------+--------------------+----------------+---------------+----------------+--------------------+------------+---------------+--------------------+--------------------+-----------+----------+---------------------+----------------+---------------+--------------------+----------+------------+--------------------+--------------------+--------------------+--------------------+--------------------+----------+--------------------+--------------------+--------------------+------------+\n",
            "only showing top 5 rows\n",
            "\n"
          ]
        }
      ]
    },
    {
      "cell_type": "markdown",
      "metadata": {
        "id": "FxRQFvZJga1D"
      },
      "source": [
        "## What is the maximum and average of the overall hidden gem score?"
      ]
    },
    {
      "cell_type": "code",
      "source": [
        "from pyspark.sql.functions import avg, min, max, countDistinct, count, split,explode"
      ],
      "metadata": {
        "id": "ui1_8hxK1I9B"
      },
      "execution_count": null,
      "outputs": []
    },
    {
      "cell_type": "code",
      "source": [
        "#Answer\n",
        "df.filter(df.Hidden_Gem_Score >= 0).select(max('Hidden_Gem_Score'),avg('Hidden_Gem_Score')).show()"
      ],
      "metadata": {
        "colab": {
          "base_uri": "https://localhost:8080/"
        },
        "id": "vHd0uNiv3Nfl",
        "outputId": "d5094966-769a-4ea6-acc4-69b240319765"
      },
      "execution_count": null,
      "outputs": [
        {
          "output_type": "stream",
          "name": "stdout",
          "text": [
            "+---------------------+---------------------+\n",
            "|max(Hidden_Gem_Score)|avg(Hidden_Gem_Score)|\n",
            "+---------------------+---------------------+\n",
            "|                  9.8|    5.937551386501226|\n",
            "+---------------------+---------------------+\n",
            "\n"
          ]
        }
      ]
    },
    {
      "cell_type": "markdown",
      "metadata": {
        "id": "TTF4eEblga1E"
      },
      "source": [
        "## How many movies that are available in Korea?"
      ]
    },
    {
      "cell_type": "code",
      "execution_count": null,
      "metadata": {
        "id": "yvIzBuCbga1E",
        "colab": {
          "base_uri": "https://localhost:8080/"
        },
        "outputId": "36531d56-06b3-4693-ad52-dfd0b80a2a64"
      },
      "outputs": [
        {
          "output_type": "execute_result",
          "data": {
            "text/plain": [
              "3075"
            ]
          },
          "metadata": {},
          "execution_count": 16
        }
      ],
      "source": [
        "#Answer\n",
        "df.filter(\"Series_or_Movie == 'Movie'\").where(\"Country_Availability like '%Korea%'\").count()"
      ]
    },
    {
      "cell_type": "markdown",
      "metadata": {
        "id": "IFOv4RIYga1F"
      },
      "source": [
        "## Which director has the highest average hidden gem score?"
      ]
    },
    {
      "cell_type": "code",
      "execution_count": null,
      "metadata": {
        "id": "bR4CIAjhga1F",
        "colab": {
          "base_uri": "https://localhost:8080/"
        },
        "outputId": "57b374de-bea8-4d23-b31d-296f1a091194"
      },
      "outputs": [
        {
          "output_type": "stream",
          "name": "stdout",
          "text": [
            "+--------------------+---------------------+\n",
            "|            Director|max(Hidden_Gem_Score)|\n",
            "+--------------------+---------------------+\n",
            "|         Dorin Marcu|                  9.8|\n",
            "|                null|                  9.7|\n",
            "|    Fernando Escovar|                  9.6|\n",
            "|Julia Reichert, S...|                  9.6|\n",
            "|          Rosa Russo|                  9.5|\n",
            "|    Ignacio Busquier|                  9.5|\n",
            "|         Kate Brooks|                  9.5|\n",
            "|Vincent Bal, Kenn...|                  9.5|\n",
            "|Bill Butler, Will...|                  9.5|\n",
            "|     Charles Officer|                  9.4|\n",
            "|    Ashish R. Shukla|                  9.3|\n",
            "|         Lisa France|                  9.3|\n",
            "|      Aundre Johnson|                  9.3|\n",
            "|          Oh Jin-Koo|                  9.3|\n",
            "|           Ryan Sage|                  9.3|\n",
            "|   Frederico Machado|                  9.3|\n",
            "|Jacqui Morris, Da...|                  9.3|\n",
            "|        R.J. Bentler|                  9.3|\n",
            "|        Shinkyu Choi|                  9.3|\n",
            "|    Jan Philipp Weyl|                  9.3|\n",
            "+--------------------+---------------------+\n",
            "only showing top 20 rows\n",
            "\n"
          ]
        }
      ],
      "source": [
        "#Answer\n",
        "df.groupby('Director').agg({'Hidden_Gem_Score': 'max'}).sort(col(\"max(Hidden_Gem_Score)\").desc()).show()"
      ]
    },
    {
      "cell_type": "markdown",
      "metadata": {
        "id": "IG0dZaHIga1F"
      },
      "source": [
        "## How many genres are there in the dataset?"
      ]
    },
    {
      "cell_type": "code",
      "source": [
        "#Answer\n",
        "new_df = df.groupBy(\"Genre\").agg(count('Genre'))\n",
        "new_df.withColumn('Genre',explode(split('Genre',', '))).select(countDistinct(\"Genre\")).show()"
      ],
      "metadata": {
        "colab": {
          "base_uri": "https://localhost:8080/"
        },
        "id": "AaqH9BszGLJM",
        "outputId": "922ea5b7-de2d-4df9-8cbb-32c86c5f39ab"
      },
      "execution_count": null,
      "outputs": [
        {
          "output_type": "stream",
          "name": "stdout",
          "text": [
            "+---------------------+\n",
            "|count(DISTINCT Genre)|\n",
            "+---------------------+\n",
            "|                   28|\n",
            "+---------------------+\n",
            "\n"
          ]
        }
      ]
    }
  ],
  "metadata": {
    "kernelspec": {
      "display_name": "Python 3 (ipykernel)",
      "language": "python",
      "name": "python3"
    },
    "language_info": {
      "codemirror_mode": {
        "name": "ipython",
        "version": 3
      },
      "file_extension": ".py",
      "mimetype": "text/x-python",
      "name": "python",
      "nbconvert_exporter": "python",
      "pygments_lexer": "ipython3",
      "version": "3.9.7"
    },
    "toc": {
      "base_numbering": 1,
      "nav_menu": {},
      "number_sections": true,
      "sideBar": true,
      "skip_h1_title": false,
      "title_cell": "Table of Contents",
      "title_sidebar": "Contents",
      "toc_cell": false,
      "toc_position": {},
      "toc_section_display": true,
      "toc_window_display": false
    },
    "varInspector": {
      "cols": {
        "lenName": 16,
        "lenType": 16,
        "lenVar": 40
      },
      "kernels_config": {
        "python": {
          "delete_cmd_postfix": "",
          "delete_cmd_prefix": "del ",
          "library": "var_list.py",
          "varRefreshCmd": "print(var_dic_list())"
        },
        "r": {
          "delete_cmd_postfix": ") ",
          "delete_cmd_prefix": "rm(",
          "library": "var_list.r",
          "varRefreshCmd": "cat(var_dic_list()) "
        }
      },
      "types_to_exclude": [
        "module",
        "function",
        "builtin_function_or_method",
        "instance",
        "_Feature"
      ],
      "window_display": false
    },
    "colab": {
      "provenance": []
    }
  },
  "nbformat": 4,
  "nbformat_minor": 0
}