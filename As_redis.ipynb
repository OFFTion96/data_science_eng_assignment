{
 "cells": [
  {
   "cell_type": "markdown",
   "metadata": {},
   "source": [
    "# Redis Assignment\n",
    "In this assignment, you will access a redis server and user redis commands to find out answers.  The redis server is at 34.87.2.170.  You also have to authenticate as username 'hw' with password 'hw'.  \n",
    "\n",
    "The populated data in the redis database is similar to the example \"simple social network\" in the class.  Answer all questions in mycourseville assignment.\n",
    "\n",
    "Note that this user can only use \"read\" commands e.g. \"get\", \"lrange\", \"llen\", \"scan\", etc."
   ]
  },
  {
   "cell_type": "code",
   "execution_count": 31,
   "metadata": {},
   "outputs": [],
   "source": [
    "import redis, csv\n",
    "import numpy as np"
   ]
  },
  {
   "cell_type": "code",
   "execution_count": 32,
   "metadata": {},
   "outputs": [
    {
     "data": {
      "text/plain": [
       "True"
      ]
     },
     "execution_count": 32,
     "metadata": {},
     "output_type": "execute_result"
    }
   ],
   "source": [
    "rd = redis.Redis(host='34.87.2.170')\n",
    "rd.auth(username='hw', password='hw')"
   ]
  },
  {
   "cell_type": "markdown",
   "metadata": {},
   "source": [
    "## What is the username of user id \"600\"?"
   ]
  },
  {
   "cell_type": "code",
   "execution_count": 34,
   "metadata": {},
   "outputs": [
    {
     "name": "stdout",
     "output_type": "stream",
     "text": [
      "cautiousCrackers9\n"
     ]
    }
   ],
   "source": [
    "result_1 = rd.get('user:600:name').decode('utf-8')\n",
    "#1\n",
    "print(result_1)"
   ]
  },
  {
   "cell_type": "markdown",
   "metadata": {},
   "source": [
    "## What is the id of username \"excitedPie4\" ?"
   ]
  },
  {
   "cell_type": "code",
   "execution_count": 35,
   "metadata": {},
   "outputs": [
    {
     "name": "stdout",
     "output_type": "stream",
     "text": [
      "567\n"
     ]
    }
   ],
   "source": [
    "result_2 = rd.get('username:excitedPie4').decode('utf-8')\n",
    "#2\n",
    "print(result_2)"
   ]
  },
  {
   "cell_type": "markdown",
   "metadata": {},
   "source": [
    "## How many users that \"excitedPie4\" follows ?"
   ]
  },
  {
   "cell_type": "code",
   "execution_count": 36,
   "metadata": {},
   "outputs": [],
   "source": [
    "# result_3 = rd.smembers('user:{}:follows'.format(567))\n",
    "# print(len(result_3))"
   ]
  },
  {
   "cell_type": "code",
   "execution_count": 37,
   "metadata": {},
   "outputs": [
    {
     "name": "stdout",
     "output_type": "stream",
     "text": [
      "9\n"
     ]
    }
   ],
   "source": [
    "result_3 = rd.scard('user:567:follows')\n",
    "#3\n",
    "print(result_3)"
   ]
  },
  {
   "cell_type": "markdown",
   "metadata": {},
   "source": [
    "## How many users are there in the database?"
   ]
  },
  {
   "cell_type": "code",
   "execution_count": 38,
   "metadata": {},
   "outputs": [
    {
     "name": "stdout",
     "output_type": "stream",
     "text": [
      "200\n"
     ]
    }
   ],
   "source": [
    "cursor = 0\n",
    "cursor, keys = rd.scan(cursor=cursor, match='username:*')\n",
    "user_list = []\n",
    "while cursor > 0:\n",
    "    for x in keys:\n",
    "        key = x.decode('utf-8')\n",
    "        value = rd.get(key).decode('utf-8')\n",
    "        user_list.append(value)\n",
    "        \n",
    "    cursor, keys = rd.scan(cursor=cursor, match='username:*')  \n",
    "result_4 = len(user_list)\n",
    "#4\n",
    "print(result_4)"
   ]
  },
  {
   "cell_type": "markdown",
   "metadata": {},
   "source": [
    "## What is the average number of follows per user?"
   ]
  },
  {
   "cell_type": "code",
   "execution_count": 39,
   "metadata": {},
   "outputs": [
    {
     "name": "stdout",
     "output_type": "stream",
     "text": [
      "8.605\n"
     ]
    }
   ],
   "source": [
    "cursor = 0\n",
    "cursor, keys = rd.scan(cursor=cursor, match='username:*')\n",
    "follows_list = []\n",
    "while cursor > 0:\n",
    "    for x in keys:\n",
    "        key = x.decode('utf-8')\n",
    "        value = rd.get(key).decode('utf-8')\n",
    "        count_follows_per_user = rd.scard('user:{}:follows'.format(value))\n",
    "        follows_list.append(count_follows_per_user)\n",
    "  \n",
    "    cursor, keys = rd.scan(cursor=cursor, match='username:*')  \n",
    "result_5 = np.average(follows_list)\n",
    "#5\n",
    "print(result_5)"
   ]
  },
  {
   "cell_type": "markdown",
   "metadata": {},
   "source": [
    "## How many users follows between 5-10 users?"
   ]
  },
  {
   "cell_type": "code",
   "execution_count": 40,
   "metadata": {},
   "outputs": [
    {
     "name": "stdout",
     "output_type": "stream",
     "text": [
      "60\n"
     ]
    }
   ],
   "source": [
    "cursor = 0\n",
    "cursor, keys = rd.scan(cursor=cursor, match='username:*')\n",
    "follows_list_sort = []\n",
    "while cursor > 0:\n",
    "    for x in keys:\n",
    "        key = x.decode('utf-8')\n",
    "        value = rd.get(key).decode('utf-8')\n",
    "        count_follows_per_user = rd.scard('user:{}:follows'.format(value))\n",
    "        if (count_follows_per_user >= 5 and count_follows_per_user <= 10):\n",
    "            follows_list_sort.append(count_follows_per_user)\n",
    "     \n",
    "        \n",
    "    cursor, keys = rd.scan(cursor=cursor, match='username:*') \n",
    "result_6 = len(follows_list_sort)\n",
    "#6\n",
    "print(result_6)"
   ]
  },
  {
   "cell_type": "markdown",
   "metadata": {},
   "source": [
    "## Which account has the most followers?"
   ]
  },
  {
   "cell_type": "code",
   "execution_count": 41,
   "metadata": {},
   "outputs": [
    {
     "name": "stdout",
     "output_type": "stream",
     "text": [
      "630\n"
     ]
    }
   ],
   "source": [
    "cursor = 0\n",
    "cursor, keys = rd.scan(cursor=cursor, match='username:*')\n",
    "most_follows = 0\n",
    "user_most_follows = \"\"\n",
    "while cursor > 0:\n",
    "    for x in keys:\n",
    "        key = x.decode('utf-8')\n",
    "        value = rd.get(key).decode('utf-8')\n",
    "        count_follows_per_user = rd.scard('user:{}:followed_by'.format(value))\n",
    "        if count_follows_per_user > most_follows:\n",
    "            most_follows = count_follows_per_user\n",
    "            user_most_follows = value\n",
    "        else:\n",
    "            pass\n",
    "      \n",
    "        \n",
    "    cursor, keys = rd.scan(cursor=cursor, match='username:*')\n",
    "result_7 = user_most_follows\n",
    "#7\n",
    "print(result_7)\n"
   ]
  },
  {
   "cell_type": "code",
   "execution_count": null,
   "metadata": {},
   "outputs": [],
   "source": []
  },
  {
   "cell_type": "code",
   "execution_count": null,
   "metadata": {},
   "outputs": [],
   "source": []
  }
 ],
 "metadata": {
  "kernelspec": {
   "display_name": "Python 3 (ipykernel)",
   "language": "python",
   "name": "python3"
  },
  "language_info": {
   "codemirror_mode": {
    "name": "ipython",
    "version": 3
   },
   "file_extension": ".py",
   "mimetype": "text/x-python",
   "name": "python",
   "nbconvert_exporter": "python",
   "pygments_lexer": "ipython3",
   "version": "3.9.12"
  },
  "toc": {
   "base_numbering": 1,
   "nav_menu": {},
   "number_sections": true,
   "sideBar": true,
   "skip_h1_title": false,
   "title_cell": "Table of Contents",
   "title_sidebar": "Contents",
   "toc_cell": false,
   "toc_position": {},
   "toc_section_display": true,
   "toc_window_display": false
  },
  "varInspector": {
   "cols": {
    "lenName": 16,
    "lenType": 16,
    "lenVar": 40
   },
   "kernels_config": {
    "python": {
     "delete_cmd_postfix": "",
     "delete_cmd_prefix": "del ",
     "library": "var_list.py",
     "varRefreshCmd": "print(var_dic_list())"
    },
    "r": {
     "delete_cmd_postfix": ") ",
     "delete_cmd_prefix": "rm(",
     "library": "var_list.r",
     "varRefreshCmd": "cat(var_dic_list()) "
    }
   },
   "types_to_exclude": [
    "module",
    "function",
    "builtin_function_or_method",
    "instance",
    "_Feature"
   ],
   "window_display": false
  }
 },
 "nbformat": 4,
 "nbformat_minor": 4
}
