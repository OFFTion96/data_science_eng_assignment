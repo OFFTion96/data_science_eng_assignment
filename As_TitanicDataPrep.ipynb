{
  "cells": [
    {
      "cell_type": "markdown",
      "metadata": {
        "id": "GSigx26OuY3K"
      },
      "source": [
        "# Assignment: Preparing Data for Analysis (Modified Titanic)"
      ]
    },
    {
      "cell_type": "markdown",
      "metadata": {
        "id": "tGEv03EbuY3R"
      },
      "source": [
        "![](https://github.com/kaopanboonyuen/2110446_DataScience_2021s2/raw/main/%20files/hw.png)"
      ]
    },
    {
      "cell_type": "code",
      "execution_count": 251,
      "metadata": {
        "id": "ENNw4KZRuY3S"
      },
      "outputs": [],
      "source": [
        "#Import the libraries\n",
        "import numpy as np\n",
        "import pandas as pd"
      ]
    },
    {
      "cell_type": "code",
      "execution_count": 252,
      "metadata": {
        "id": "9EUsBCyTuY3U"
      },
      "outputs": [],
      "source": [
        "df = pd.read_csv('https://github.com/kaopanboonyuen/2110446_DataScience_2021s2/raw/main/datasets/hw/titanic_training_dataset_v2.csv')"
      ]
    },
    {
      "cell_type": "code",
      "execution_count": 253,
      "metadata": {
        "colab": {
          "base_uri": "https://localhost:8080/",
          "height": 285
        },
        "id": "vT-vilTxuY3V",
        "outputId": "20352892-5f43-45ce-a007-bc978de07d9d"
      },
      "outputs": [
        {
          "output_type": "execute_result",
          "data": {
            "text/plain": [
              "   PassengerId  Survived  Pclass  \\\n",
              "0            1       0.0     3.0   \n",
              "1            2       1.0     1.0   \n",
              "2            3       1.0     3.0   \n",
              "3            4       1.0     1.0   \n",
              "4            5       0.0     3.0   \n",
              "\n",
              "                                                Name     Sex   Age  SibSp  \\\n",
              "0                            Braund, Mr. Owen Harris    male  22.0    1.0   \n",
              "1  Cumings, Mrs. John Bradley (Florence Briggs Th...  female  38.0    1.0   \n",
              "2                             Heikkinen, Miss. Laina  female  26.0    0.0   \n",
              "3       Futrelle, Mrs. Jacques Heath (Lily May Peel)  female  35.0    1.0   \n",
              "4                           Allen, Mr. William Henry    male  35.0    0.0   \n",
              "\n",
              "   Parch            Ticket     Fare Cabin Embarked  \n",
              "0      0         A/5 21171   7.2500   NaN        S  \n",
              "1      0          PC 17599  71.2833   C85        C  \n",
              "2      0  STON/O2. 3101282   7.9250   NaN        S  \n",
              "3      0            113803  53.1000  C123        S  \n",
              "4      0            373450   8.0500   NaN        S  "
            ],
            "text/html": [
              "\n",
              "  <div id=\"df-c913a478-ba2b-4786-9b5d-2a86645bf6b1\">\n",
              "    <div class=\"colab-df-container\">\n",
              "      <div>\n",
              "<style scoped>\n",
              "    .dataframe tbody tr th:only-of-type {\n",
              "        vertical-align: middle;\n",
              "    }\n",
              "\n",
              "    .dataframe tbody tr th {\n",
              "        vertical-align: top;\n",
              "    }\n",
              "\n",
              "    .dataframe thead th {\n",
              "        text-align: right;\n",
              "    }\n",
              "</style>\n",
              "<table border=\"1\" class=\"dataframe\">\n",
              "  <thead>\n",
              "    <tr style=\"text-align: right;\">\n",
              "      <th></th>\n",
              "      <th>PassengerId</th>\n",
              "      <th>Survived</th>\n",
              "      <th>Pclass</th>\n",
              "      <th>Name</th>\n",
              "      <th>Sex</th>\n",
              "      <th>Age</th>\n",
              "      <th>SibSp</th>\n",
              "      <th>Parch</th>\n",
              "      <th>Ticket</th>\n",
              "      <th>Fare</th>\n",
              "      <th>Cabin</th>\n",
              "      <th>Embarked</th>\n",
              "    </tr>\n",
              "  </thead>\n",
              "  <tbody>\n",
              "    <tr>\n",
              "      <th>0</th>\n",
              "      <td>1</td>\n",
              "      <td>0.0</td>\n",
              "      <td>3.0</td>\n",
              "      <td>Braund, Mr. Owen Harris</td>\n",
              "      <td>male</td>\n",
              "      <td>22.0</td>\n",
              "      <td>1.0</td>\n",
              "      <td>0</td>\n",
              "      <td>A/5 21171</td>\n",
              "      <td>7.2500</td>\n",
              "      <td>NaN</td>\n",
              "      <td>S</td>\n",
              "    </tr>\n",
              "    <tr>\n",
              "      <th>1</th>\n",
              "      <td>2</td>\n",
              "      <td>1.0</td>\n",
              "      <td>1.0</td>\n",
              "      <td>Cumings, Mrs. John Bradley (Florence Briggs Th...</td>\n",
              "      <td>female</td>\n",
              "      <td>38.0</td>\n",
              "      <td>1.0</td>\n",
              "      <td>0</td>\n",
              "      <td>PC 17599</td>\n",
              "      <td>71.2833</td>\n",
              "      <td>C85</td>\n",
              "      <td>C</td>\n",
              "    </tr>\n",
              "    <tr>\n",
              "      <th>2</th>\n",
              "      <td>3</td>\n",
              "      <td>1.0</td>\n",
              "      <td>3.0</td>\n",
              "      <td>Heikkinen, Miss. Laina</td>\n",
              "      <td>female</td>\n",
              "      <td>26.0</td>\n",
              "      <td>0.0</td>\n",
              "      <td>0</td>\n",
              "      <td>STON/O2. 3101282</td>\n",
              "      <td>7.9250</td>\n",
              "      <td>NaN</td>\n",
              "      <td>S</td>\n",
              "    </tr>\n",
              "    <tr>\n",
              "      <th>3</th>\n",
              "      <td>4</td>\n",
              "      <td>1.0</td>\n",
              "      <td>1.0</td>\n",
              "      <td>Futrelle, Mrs. Jacques Heath (Lily May Peel)</td>\n",
              "      <td>female</td>\n",
              "      <td>35.0</td>\n",
              "      <td>1.0</td>\n",
              "      <td>0</td>\n",
              "      <td>113803</td>\n",
              "      <td>53.1000</td>\n",
              "      <td>C123</td>\n",
              "      <td>S</td>\n",
              "    </tr>\n",
              "    <tr>\n",
              "      <th>4</th>\n",
              "      <td>5</td>\n",
              "      <td>0.0</td>\n",
              "      <td>3.0</td>\n",
              "      <td>Allen, Mr. William Henry</td>\n",
              "      <td>male</td>\n",
              "      <td>35.0</td>\n",
              "      <td>0.0</td>\n",
              "      <td>0</td>\n",
              "      <td>373450</td>\n",
              "      <td>8.0500</td>\n",
              "      <td>NaN</td>\n",
              "      <td>S</td>\n",
              "    </tr>\n",
              "  </tbody>\n",
              "</table>\n",
              "</div>\n",
              "      <button class=\"colab-df-convert\" onclick=\"convertToInteractive('df-c913a478-ba2b-4786-9b5d-2a86645bf6b1')\"\n",
              "              title=\"Convert this dataframe to an interactive table.\"\n",
              "              style=\"display:none;\">\n",
              "        \n",
              "  <svg xmlns=\"http://www.w3.org/2000/svg\" height=\"24px\"viewBox=\"0 0 24 24\"\n",
              "       width=\"24px\">\n",
              "    <path d=\"M0 0h24v24H0V0z\" fill=\"none\"/>\n",
              "    <path d=\"M18.56 5.44l.94 2.06.94-2.06 2.06-.94-2.06-.94-.94-2.06-.94 2.06-2.06.94zm-11 1L8.5 8.5l.94-2.06 2.06-.94-2.06-.94L8.5 2.5l-.94 2.06-2.06.94zm10 10l.94 2.06.94-2.06 2.06-.94-2.06-.94-.94-2.06-.94 2.06-2.06.94z\"/><path d=\"M17.41 7.96l-1.37-1.37c-.4-.4-.92-.59-1.43-.59-.52 0-1.04.2-1.43.59L10.3 9.45l-7.72 7.72c-.78.78-.78 2.05 0 2.83L4 21.41c.39.39.9.59 1.41.59.51 0 1.02-.2 1.41-.59l7.78-7.78 2.81-2.81c.8-.78.8-2.07 0-2.86zM5.41 20L4 18.59l7.72-7.72 1.47 1.35L5.41 20z\"/>\n",
              "  </svg>\n",
              "      </button>\n",
              "      \n",
              "  <style>\n",
              "    .colab-df-container {\n",
              "      display:flex;\n",
              "      flex-wrap:wrap;\n",
              "      gap: 12px;\n",
              "    }\n",
              "\n",
              "    .colab-df-convert {\n",
              "      background-color: #E8F0FE;\n",
              "      border: none;\n",
              "      border-radius: 50%;\n",
              "      cursor: pointer;\n",
              "      display: none;\n",
              "      fill: #1967D2;\n",
              "      height: 32px;\n",
              "      padding: 0 0 0 0;\n",
              "      width: 32px;\n",
              "    }\n",
              "\n",
              "    .colab-df-convert:hover {\n",
              "      background-color: #E2EBFA;\n",
              "      box-shadow: 0px 1px 2px rgba(60, 64, 67, 0.3), 0px 1px 3px 1px rgba(60, 64, 67, 0.15);\n",
              "      fill: #174EA6;\n",
              "    }\n",
              "\n",
              "    [theme=dark] .colab-df-convert {\n",
              "      background-color: #3B4455;\n",
              "      fill: #D2E3FC;\n",
              "    }\n",
              "\n",
              "    [theme=dark] .colab-df-convert:hover {\n",
              "      background-color: #434B5C;\n",
              "      box-shadow: 0px 1px 3px 1px rgba(0, 0, 0, 0.15);\n",
              "      filter: drop-shadow(0px 1px 2px rgba(0, 0, 0, 0.3));\n",
              "      fill: #FFFFFF;\n",
              "    }\n",
              "  </style>\n",
              "\n",
              "      <script>\n",
              "        const buttonEl =\n",
              "          document.querySelector('#df-c913a478-ba2b-4786-9b5d-2a86645bf6b1 button.colab-df-convert');\n",
              "        buttonEl.style.display =\n",
              "          google.colab.kernel.accessAllowed ? 'block' : 'none';\n",
              "\n",
              "        async function convertToInteractive(key) {\n",
              "          const element = document.querySelector('#df-c913a478-ba2b-4786-9b5d-2a86645bf6b1');\n",
              "          const dataTable =\n",
              "            await google.colab.kernel.invokeFunction('convertToInteractive',\n",
              "                                                     [key], {});\n",
              "          if (!dataTable) return;\n",
              "\n",
              "          const docLinkHtml = 'Like what you see? Visit the ' +\n",
              "            '<a target=\"_blank\" href=https://colab.research.google.com/notebooks/data_table.ipynb>data table notebook</a>'\n",
              "            + ' to learn more about interactive tables.';\n",
              "          element.innerHTML = '';\n",
              "          dataTable['output_type'] = 'display_data';\n",
              "          await google.colab.output.renderOutput(dataTable, element);\n",
              "          const docLink = document.createElement('div');\n",
              "          docLink.innerHTML = docLinkHtml;\n",
              "          element.appendChild(docLink);\n",
              "        }\n",
              "      </script>\n",
              "    </div>\n",
              "  </div>\n",
              "  "
            ]
          },
          "metadata": {},
          "execution_count": 253
        }
      ],
      "source": [
        "df.head()"
      ]
    },
    {
      "cell_type": "code",
      "execution_count": 254,
      "metadata": {
        "colab": {
          "base_uri": "https://localhost:8080/"
        },
        "id": "uQkJzKJGuY3W",
        "outputId": "d55cb259-6462-491e-dced-7d7a42f1211e"
      },
      "outputs": [
        {
          "output_type": "stream",
          "name": "stdout",
          "text": [
            "<class 'pandas.core.frame.DataFrame'>\n",
            "RangeIndex: 891 entries, 0 to 890\n",
            "Data columns (total 12 columns):\n",
            " #   Column       Non-Null Count  Dtype  \n",
            "---  ------       --------------  -----  \n",
            " 0   PassengerId  891 non-null    int64  \n",
            " 1   Survived     865 non-null    float64\n",
            " 2   Pclass       828 non-null    float64\n",
            " 3   Name         866 non-null    object \n",
            " 4   Sex          891 non-null    object \n",
            " 5   Age          714 non-null    float64\n",
            " 6   SibSp        858 non-null    float64\n",
            " 7   Parch        891 non-null    int64  \n",
            " 8   Ticket       852 non-null    object \n",
            " 9   Fare         891 non-null    float64\n",
            " 10  Cabin        204 non-null    object \n",
            " 11  Embarked     803 non-null    object \n",
            "dtypes: float64(5), int64(2), object(5)\n",
            "memory usage: 83.7+ KB\n"
          ]
        }
      ],
      "source": [
        "df.info()"
      ]
    },
    {
      "cell_type": "markdown",
      "source": [
        "# 1) Load data & review the data\n",
        "\n",
        "<font color='blue'>Q1) What is the shape of this dataset? (rows & columns)</font>"
      ],
      "metadata": {
        "id": "jNOG5aCOrUtm"
      }
    },
    {
      "cell_type": "code",
      "source": [
        "df.shape"
      ],
      "metadata": {
        "id": "BAbupvyHu6W9",
        "colab": {
          "base_uri": "https://localhost:8080/"
        },
        "outputId": "7ce2463e-e0e9-4137-971a-e62c7f47120c"
      },
      "execution_count": 255,
      "outputs": [
        {
          "output_type": "execute_result",
          "data": {
            "text/plain": [
              "(891, 12)"
            ]
          },
          "metadata": {},
          "execution_count": 255
        }
      ]
    },
    {
      "cell_type": "markdown",
      "source": [
        "# 2) Drop unqualified variables\n",
        "\n",
        "*   Drop variables with missing > 50%\n",
        "*   Drop categorical variables with flat values > 70% (variables with the same value in the same column)\n",
        "\n",
        "<font color='blue'>Q2) How many columns do we have left?</font>\n",
        "\n",
        "\n"
      ],
      "metadata": {
        "id": "6owE3QFLrV4V"
      }
    },
    {
      "cell_type": "code",
      "source": [
        "half_count = len(df)/2\n",
        "df = df.dropna(thresh=half_count,axis=1)"
      ],
      "metadata": {
        "id": "kAgPjtvWrXe4"
      },
      "execution_count": 256,
      "outputs": []
    },
    {
      "cell_type": "code",
      "source": [
        "df_cols = df.columns.to_list()"
      ],
      "metadata": {
        "id": "7ROQdE8TVodB"
      },
      "execution_count": 257,
      "outputs": []
    },
    {
      "cell_type": "code",
      "source": [
        "for col in df_cols:\n",
        "  data = df.value_counts(subset=col)/len(df)\n",
        "  for i in data.values:\n",
        "    if i > 0.7:\n",
        "      print(col)"
      ],
      "metadata": {
        "colab": {
          "base_uri": "https://localhost:8080/"
        },
        "id": "BBiW5cLNXE3-",
        "outputId": "1daab858-b3ae-42c3-82c3-c13e54fc5c6c"
      },
      "execution_count": 258,
      "outputs": [
        {
          "output_type": "stream",
          "name": "stdout",
          "text": [
            "Parch\n"
          ]
        }
      ]
    },
    {
      "cell_type": "code",
      "source": [
        "df = df.drop(columns=[\"Parch\"])"
      ],
      "metadata": {
        "id": "1WioCC_Ka3bD"
      },
      "execution_count": 259,
      "outputs": []
    },
    {
      "cell_type": "code",
      "source": [
        "df.shape"
      ],
      "metadata": {
        "colab": {
          "base_uri": "https://localhost:8080/"
        },
        "id": "VXpYKE_TZm2n",
        "outputId": "ac2e3872-43cc-45de-c148-2e443324dd06"
      },
      "execution_count": 260,
      "outputs": [
        {
          "output_type": "execute_result",
          "data": {
            "text/plain": [
              "(891, 10)"
            ]
          },
          "metadata": {},
          "execution_count": 260
        }
      ]
    },
    {
      "cell_type": "markdown",
      "source": [
        "# 3) Remove all rows with missing target (the variable \"Survived\")\n",
        "\n",
        "<font color='blue'>Q3) How many rows do we have left?</font>"
      ],
      "metadata": {
        "id": "Ihy7JLa8rYBP"
      }
    },
    {
      "cell_type": "code",
      "source": [
        "df['Survived'].isna().sum()"
      ],
      "metadata": {
        "id": "eKkMM--nrZ2p",
        "colab": {
          "base_uri": "https://localhost:8080/"
        },
        "outputId": "967be611-2a22-4ec8-f62f-5453087bacd8"
      },
      "execution_count": 261,
      "outputs": [
        {
          "output_type": "execute_result",
          "data": {
            "text/plain": [
              "26"
            ]
          },
          "metadata": {},
          "execution_count": 261
        }
      ]
    },
    {
      "cell_type": "code",
      "source": [
        "df.dropna(subset=['Survived'],inplace=True)"
      ],
      "metadata": {
        "id": "8bNEDh3Vb0xI"
      },
      "execution_count": 262,
      "outputs": []
    },
    {
      "cell_type": "code",
      "source": [
        "df.shape"
      ],
      "metadata": {
        "colab": {
          "base_uri": "https://localhost:8080/"
        },
        "id": "yvcxIjqHdsIT",
        "outputId": "cb4a8bc2-97d5-4e76-f1cd-a0f02f483236"
      },
      "execution_count": 263,
      "outputs": [
        {
          "output_type": "execute_result",
          "data": {
            "text/plain": [
              "(865, 10)"
            ]
          },
          "metadata": {},
          "execution_count": 263
        }
      ]
    },
    {
      "cell_type": "markdown",
      "source": [
        "# 4) Handle outliers \n",
        "\n",
        "For the variable “Fare”, replace outlier values with the boundary values\n",
        "\n",
        "\n",
        "*   If value < (Q1 - 1.5IQR), relace with (Q1 - 1.5IQR)\n",
        "*   If value > (Q3 + 1.5IQR), relace with (Q3 + 1.5IQR)\n",
        "\n",
        "<font color='blue'>Q4) What is the mean of “Fare” after replacing the outliers (round 2 decimal points)?</font>\n",
        "\n"
      ],
      "metadata": {
        "id": "sKF3ciZRraVu"
      }
    },
    {
      "cell_type": "code",
      "source": [
        "import matplotlib.pyplot as plt\n",
        "import seaborn as sns\n",
        "from scipy.stats import kurtosis, skew\n",
        "%matplotlib inline"
      ],
      "metadata": {
        "id": "y8wBB-uYfQf3"
      },
      "execution_count": 264,
      "outputs": []
    },
    {
      "cell_type": "code",
      "source": [
        "df['Fare'].isna().sum()\n",
        "\n",
        "q75, q25 = np.percentile(df['Fare'], [75 ,25])\n",
        "iqr = q75 - q25\n",
        "\n",
        "min = q25 - (iqr*1.5)\n",
        "max = q75 + (iqr*1.5)\n",
        "\n",
        "print(q75)\n",
        "print(q25)\n",
        "print(iqr)\n",
        "print(min)\n",
        "print(max)"
      ],
      "metadata": {
        "id": "zhglnoscrb4y",
        "colab": {
          "base_uri": "https://localhost:8080/"
        },
        "outputId": "42b11c5d-0c13-460b-db72-60692c1f5059"
      },
      "execution_count": 265,
      "outputs": [
        {
          "output_type": "stream",
          "name": "stdout",
          "text": [
            "31.0\n",
            "7.8958\n",
            "23.1042\n",
            "-26.7605\n",
            "65.6563\n"
          ]
        }
      ]
    },
    {
      "cell_type": "code",
      "source": [
        "i = 'Fare'\n",
        "\n",
        "plt.figure(figsize=(10,8))\n",
        "plt.subplot(211)\n",
        "plt.xlim(df[i].min(), df[i].max()*1.1)\n",
        "plt.axvline(x=min)\n",
        "plt.axvline(x=max)\n",
        "\n",
        "ax = df[i].plot(kind='kde')\n",
        "\n",
        "plt.subplot(212)\n",
        "plt.xlim(df[i].min(), df[i].max()*1.1)\n",
        "sns.boxplot(x=df[i])\n",
        "plt.axvline(x=min)\n",
        "plt.axvline(x=max)"
      ],
      "metadata": {
        "colab": {
          "base_uri": "https://localhost:8080/",
          "height": 514
        },
        "id": "8Ik-hcMBl7mk",
        "outputId": "e6706312-4517-46fb-a6a0-fccd0328211b"
      },
      "execution_count": 266,
      "outputs": [
        {
          "output_type": "execute_result",
          "data": {
            "text/plain": [
              "<matplotlib.lines.Line2D at 0x7facf4f6c350>"
            ]
          },
          "metadata": {},
          "execution_count": 266
        },
        {
          "output_type": "display_data",
          "data": {
            "text/plain": [
              "<Figure size 720x576 with 2 Axes>"
            ],
            "image/png": "[encoded data removed]"
          },
          "metadata": {
            "needs_background": "light"
          }
        }
      ]
    },
    {
      "cell_type": "code",
      "source": [
        "df.loc[df['Fare']>max,'Fare'] = max\n",
        "df.loc[df['Fare']<min,'Fare'] = min"
      ],
      "metadata": {
        "id": "1e_lXDSIe3zg"
      },
      "execution_count": 267,
      "outputs": []
    },
    {
      "cell_type": "code",
      "source": [
        "round(df['Fare'].mean(),2)"
      ],
      "metadata": {
        "colab": {
          "base_uri": "https://localhost:8080/"
        },
        "id": "GnSOObIHo-QA",
        "outputId": "37d01e0e-96e2-4c8a-bd26-8bc5763ba4a5"
      },
      "execution_count": 268,
      "outputs": [
        {
          "output_type": "execute_result",
          "data": {
            "text/plain": [
              "24.04"
            ]
          },
          "metadata": {},
          "execution_count": 268
        }
      ]
    },
    {
      "cell_type": "markdown",
      "source": [
        "# 5) Impute missing value\n",
        "\n",
        "\n",
        "\n",
        "*   Show the number of missing values in each variable\n",
        "*   Impute missing values with mean & mode\n",
        "*   Show the number of missing values again after missing value imputation\n",
        "\n",
        "<font color='blue'>Q5) Which variable has the largest number of missing values?</font>\n",
        "\n"
      ],
      "metadata": {
        "id": "TwxCIIi_rce4"
      }
    },
    {
      "cell_type": "code",
      "source": [
        "df.info()"
      ],
      "metadata": {
        "colab": {
          "base_uri": "https://localhost:8080/"
        },
        "id": "fLBVDItav9rj",
        "outputId": "14f763cc-f77e-4e58-d056-aa0aafddce72"
      },
      "execution_count": 269,
      "outputs": [
        {
          "output_type": "stream",
          "name": "stdout",
          "text": [
            "<class 'pandas.core.frame.DataFrame'>\n",
            "Int64Index: 865 entries, 0 to 890\n",
            "Data columns (total 10 columns):\n",
            " #   Column       Non-Null Count  Dtype  \n",
            "---  ------       --------------  -----  \n",
            " 0   PassengerId  865 non-null    int64  \n",
            " 1   Survived     865 non-null    float64\n",
            " 2   Pclass       802 non-null    float64\n",
            " 3   Name         840 non-null    object \n",
            " 4   Sex          865 non-null    object \n",
            " 5   Age          693 non-null    float64\n",
            " 6   SibSp        832 non-null    float64\n",
            " 7   Ticket       826 non-null    object \n",
            " 8   Fare         865 non-null    float64\n",
            " 9   Embarked     778 non-null    object \n",
            "dtypes: float64(5), int64(1), object(4)\n",
            "memory usage: 74.3+ KB\n"
          ]
        }
      ]
    },
    {
      "cell_type": "code",
      "source": [
        "df.isna().sum()"
      ],
      "metadata": {
        "id": "Shrce-PErd00",
        "colab": {
          "base_uri": "https://localhost:8080/"
        },
        "outputId": "ce73a042-0ccd-48a0-ecc3-1f27a4d95e96"
      },
      "execution_count": 270,
      "outputs": [
        {
          "output_type": "execute_result",
          "data": {
            "text/plain": [
              "PassengerId      0\n",
              "Survived         0\n",
              "Pclass          63\n",
              "Name            25\n",
              "Sex              0\n",
              "Age            172\n",
              "SibSp           33\n",
              "Ticket          39\n",
              "Fare             0\n",
              "Embarked        87\n",
              "dtype: int64"
            ]
          },
          "metadata": {},
          "execution_count": 270
        }
      ]
    },
    {
      "cell_type": "code",
      "source": [
        "df.fillna(df.mean(),inplace=True)"
      ],
      "metadata": {
        "colab": {
          "base_uri": "https://localhost:8080/"
        },
        "id": "BWA5VEZWvN0k",
        "outputId": "69df42c6-01d0-48a6-8383-1ea7ef71a103"
      },
      "execution_count": 271,
      "outputs": [
        {
          "output_type": "stream",
          "name": "stderr",
          "text": [
            "/usr/local/lib/python3.7/dist-packages/ipykernel_launcher.py:1: FutureWarning: Dropping of nuisance columns in DataFrame reductions (with 'numeric_only=None') is deprecated; in a future version this will raise TypeError.  Select only valid columns before calling the reduction.\n",
            "  \"\"\"Entry point for launching an IPython kernel.\n"
          ]
        }
      ]
    },
    {
      "cell_type": "code",
      "source": [
        "df.isna().sum()"
      ],
      "metadata": {
        "colab": {
          "base_uri": "https://localhost:8080/"
        },
        "id": "TtMgvcK4vi9U",
        "outputId": "7f4e4741-122a-4ba2-9eca-7d44628eea31"
      },
      "execution_count": 272,
      "outputs": [
        {
          "output_type": "execute_result",
          "data": {
            "text/plain": [
              "PassengerId     0\n",
              "Survived        0\n",
              "Pclass          0\n",
              "Name           25\n",
              "Sex             0\n",
              "Age             0\n",
              "SibSp           0\n",
              "Ticket         39\n",
              "Fare            0\n",
              "Embarked       87\n",
              "dtype: int64"
            ]
          },
          "metadata": {},
          "execution_count": 272
        }
      ]
    },
    {
      "cell_type": "code",
      "source": [
        "df.fillna(df.mode().iloc[0],inplace=True)"
      ],
      "metadata": {
        "id": "kAWJ06npvnH6"
      },
      "execution_count": 273,
      "outputs": []
    },
    {
      "cell_type": "code",
      "source": [
        "df.isna().sum()"
      ],
      "metadata": {
        "colab": {
          "base_uri": "https://localhost:8080/"
        },
        "id": "U1mlRy04vqAF",
        "outputId": "4862dea2-421c-4562-aaaa-1c1086e55480"
      },
      "execution_count": 274,
      "outputs": [
        {
          "output_type": "execute_result",
          "data": {
            "text/plain": [
              "PassengerId    0\n",
              "Survived       0\n",
              "Pclass         0\n",
              "Name           0\n",
              "Sex            0\n",
              "Age            0\n",
              "SibSp          0\n",
              "Ticket         0\n",
              "Fare           0\n",
              "Embarked       0\n",
              "dtype: int64"
            ]
          },
          "metadata": {},
          "execution_count": 274
        }
      ]
    },
    {
      "cell_type": "markdown",
      "source": [
        "# 6) Convert categorical to numeric values\n",
        "\n",
        "\n",
        "\n",
        "*   Drop the variables “Name” & “Ticket”\n",
        "*   For the variables “Sex” & “Embarked”, perform the dummy coding and drop the first level. Also, drop those original variables (“Sex” & “Embarked”)\n",
        "\n",
        "<font color='blue'>Q6) How many columns do we have?</font>\n",
        "\n"
      ],
      "metadata": {
        "id": "NXXaglHereaU"
      }
    },
    {
      "cell_type": "code",
      "source": [
        "df = df.drop(['Name','Ticket'],axis=1)"
      ],
      "metadata": {
        "id": "5XZULmsKrf4e"
      },
      "execution_count": 276,
      "outputs": []
    },
    {
      "cell_type": "code",
      "source": [
        "nominal_columns = [\"Sex\",\"Embarked\"]\n",
        "dummy_df = pd.get_dummies(df[nominal_columns], drop_first=True) \n",
        "df_with_dummy_df = pd.concat([df, dummy_df], axis=1)\n",
        "df_with_dummy_df = df_with_dummy_df.drop(nominal_columns, axis=1)\n",
        "print(df_with_dummy_df.shape)\n"
      ],
      "metadata": {
        "colab": {
          "base_uri": "https://localhost:8080/"
        },
        "id": "yoNyHd0bu_qS",
        "outputId": "ceb0a10a-09c8-4838-9aec-9800d237499a"
      },
      "execution_count": 277,
      "outputs": [
        {
          "output_type": "stream",
          "name": "stdout",
          "text": [
            "(865, 9)\n"
          ]
        }
      ]
    },
    {
      "cell_type": "code",
      "source": [
        "# from sklearn.preprocessing import OneHotEncoder\n",
        "# # creating instance of one-hot-encoder\n",
        "# enc = OneHotEncoder(handle_unknown='ignore') # this feature will be all zeros\n",
        "# # passing bridge-types-cat column (label encoded values of bridge_types)\n",
        "# df_columns = [\"Sex\", \"Embarked\"]\n",
        "# enc_df = pd.DataFrame(enc.fit_transform(df[df_columns]).toarray())\n",
        "# enc_df = enc_df.drop(columns=0)\n",
        "# df = pd.merge(df, enc_df, left_index=True, right_index=True)\n",
        "# df[['Sex','Embarked',1,2,3,4]][(df['Sex']=='male')&(df['Embarked']=='S')]\n"
      ],
      "metadata": {
        "id": "Zgvd5FYVmkuj"
      },
      "execution_count": 278,
      "outputs": []
    },
    {
      "cell_type": "markdown",
      "source": [
        "# 7) Partition data\n",
        "\n",
        "\n",
        "\n",
        "*   Split train/test split with stratification using 70%:30% and random seed with 12345\n",
        "*   Show a proportion between survived (1) and died (0) in all data sets (total data, train, test)\n",
        "\n",
        "<font color='blue'>Q7) What is a proportion between survived (1) and died (0) in the training data?</font>\n",
        "\n"
      ],
      "metadata": {
        "id": "hjsp-1jDrgg5"
      }
    },
    {
      "cell_type": "code",
      "source": [
        "from sklearn.model_selection import train_test_split\n",
        "y = df.pop('Survived')\n",
        "X = df\n",
        "X_train,X_test,y_train,y_test = train_test_split(X,y,stratify=y,test_size=0.3, random_state=12345)"
      ],
      "metadata": {
        "id": "lsk1hMQ0p5yC"
      },
      "execution_count": 279,
      "outputs": []
    },
    {
      "cell_type": "code",
      "source": [
        "print(y_train.value_counts() / y_train.shape[0])\n",
        "print(y_test.value_counts() / y_test.shape[0])"
      ],
      "metadata": {
        "colab": {
          "base_uri": "https://localhost:8080/"
        },
        "id": "tr8zZsGtzxm0",
        "outputId": "a30cbccf-2df1-434c-94f4-e1f03bf76b82"
      },
      "execution_count": 292,
      "outputs": [
        {
          "output_type": "stream",
          "name": "stdout",
          "text": [
            "0.0    0.616529\n",
            "1.0    0.383471\n",
            "Name: Survived, dtype: float64\n",
            "0.0    0.615385\n",
            "1.0    0.384615\n",
            "Name: Survived, dtype: float64\n"
          ]
        }
      ]
    }
  ],
  "metadata": {
    "kernelspec": {
      "display_name": "Python 3",
      "language": "python",
      "name": "python3"
    },
    "language_info": {
      "codemirror_mode": {
        "name": "ipython",
        "version": 3
      },
      "file_extension": ".py",
      "mimetype": "text/x-python",
      "name": "python",
      "nbconvert_exporter": "python",
      "pygments_lexer": "ipython3",
      "version": "3.8.3"
    },
    "toc": {
      "base_numbering": 1,
      "nav_menu": {},
      "number_sections": true,
      "sideBar": true,
      "skip_h1_title": false,
      "title_cell": "Table of Contents",
      "title_sidebar": "Contents",
      "toc_cell": false,
      "toc_position": {},
      "toc_section_display": true,
      "toc_window_display": false
    },
    "colab": {
      "name": "6570285721_Assignment2_TitanicDataPrep_ToStudent.ipynb",
      "provenance": [],
      "collapsed_sections": [],
      "toc_visible": true
    }
  },
  "nbformat": 4,
  "nbformat_minor": 0
}