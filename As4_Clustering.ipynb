{
  "nbformat": 4,
  "nbformat_minor": 0,
  "metadata": {
    "colab": {
      "provenance": [],
      "collapsed_sections": [],
      "toc_visible": true
    },
    "kernelspec": {
      "name": "python3",
      "display_name": "Python 3"
    },
    "language_info": {
      "name": "python"
    }
  },
  "cells": [
    {
      "cell_type": "code",
      "execution_count": null,
      "metadata": {
        "colab": {
          "base_uri": "https://localhost:8080/",
          "height": 381
        },
        "id": "RA_JLCwRWnFL",
        "outputId": "9b5445a1-735d-4ac5-fa93-090f219318ab"
      },
      "outputs": [
        {
          "output_type": "stream",
          "name": "stdout",
          "text": [
            "Looking in indexes: https://pypi.org/simple, https://us-python.pkg.dev/colab-wheels/public/simple/\n",
            "Requirement already satisfied: scikit-learn==1.0.2 in /usr/local/lib/python3.7/dist-packages (1.0.2)\n",
            "Requirement already satisfied: joblib>=0.11 in /usr/local/lib/python3.7/dist-packages (from scikit-learn==1.0.2) (1.1.0)\n",
            "Requirement already satisfied: scipy>=1.1.0 in /usr/local/lib/python3.7/dist-packages (from scikit-learn==1.0.2) (1.7.3)\n",
            "Requirement already satisfied: numpy>=1.14.6 in /usr/local/lib/python3.7/dist-packages (from scikit-learn==1.0.2) (1.21.6)\n",
            "Requirement already satisfied: threadpoolctl>=2.0.0 in /usr/local/lib/python3.7/dist-packages (from scikit-learn==1.0.2) (3.1.0)\n",
            "Looking in indexes: https://pypi.org/simple, https://us-python.pkg.dev/colab-wheels/public/simple/\n",
            "Collecting numpy==1.21.5\n",
            "  Downloading numpy-1.21.5-cp37-cp37m-manylinux_2_12_x86_64.manylinux2010_x86_64.whl (15.7 MB)\n",
            "\u001b[K     |████████████████████████████████| 15.7 MB 1.3 MB/s \n",
            "\u001b[?25hInstalling collected packages: numpy\n",
            "  Attempting uninstall: numpy\n",
            "    Found existing installation: numpy 1.21.6\n",
            "    Uninstalling numpy-1.21.6:\n",
            "      Successfully uninstalled numpy-1.21.6\n",
            "Successfully installed numpy-1.21.5\n"
          ]
        },
        {
          "output_type": "display_data",
          "data": {
            "application/vnd.colab-display-data+json": {
              "pip_warning": {
                "packages": [
                  "numpy"
                ]
              }
            }
          },
          "metadata": {}
        }
      ],
      "source": [
        "!pip install --upgrade scikit-learn==1.0.2\n",
        "!pip install --upgrade numpy==1.21.5"
      ]
    },
    {
      "cell_type": "code",
      "source": [
        "import seaborn as sns\n",
        "import matplotlib.pyplot as plt\n",
        "from sklearn.datasets import make_blobs\n",
        "import pandas as pd\n",
        "from sklearn.cluster import KMeans"
      ],
      "metadata": {
        "id": "NrhwF0s6XoDt"
      },
      "execution_count": null,
      "outputs": []
    },
    {
      "cell_type": "code",
      "source": [
        "!wget https://github.com/kaopanboonyuen/Python-Data-Science/raw/master/Dataset/hed2020_dataset.csv"
      ],
      "metadata": {
        "colab": {
          "base_uri": "https://localhost:8080/"
        },
        "id": "C6TutLepasdK",
        "outputId": "19aa81ae-8263-4e3b-9400-dea4e0f11721"
      },
      "execution_count": null,
      "outputs": [
        {
          "output_type": "stream",
          "name": "stdout",
          "text": [
            "--2022-09-15 09:12:40--  https://github.com/kaopanboonyuen/Python-Data-Science/raw/master/Dataset/hed2020_dataset.csv\n",
            "Resolving github.com (github.com)... 140.82.113.4\n",
            "Connecting to github.com (github.com)|140.82.113.4|:443... connected.\n",
            "HTTP request sent, awaiting response... 302 Found\n",
            "Location: https://raw.githubusercontent.com/kaopanboonyuen/Python-Data-Science/master/Dataset/hed2020_dataset.csv [following]\n",
            "--2022-09-15 09:12:40--  https://raw.githubusercontent.com/kaopanboonyuen/Python-Data-Science/master/Dataset/hed2020_dataset.csv\n",
            "Resolving raw.githubusercontent.com (raw.githubusercontent.com)... 185.199.108.133, 185.199.109.133, 185.199.110.133, ...\n",
            "Connecting to raw.githubusercontent.com (raw.githubusercontent.com)|185.199.108.133|:443... connected.\n",
            "HTTP request sent, awaiting response... 200 OK\n",
            "Length: 352588 (344K) [text/plain]\n",
            "Saving to: ‘hed2020_dataset.csv’\n",
            "\n",
            "hed2020_dataset.csv 100%[===================>] 344.32K  --.-KB/s    in 0.03s   \n",
            "\n",
            "2022-09-15 09:12:40 (10.1 MB/s) - ‘hed2020_dataset.csv’ saved [352588/352588]\n",
            "\n"
          ]
        }
      ]
    },
    {
      "cell_type": "code",
      "source": [
        "df = pd.read_csv('hed2020_dataset.csv')"
      ],
      "metadata": {
        "id": "icee49xta05n"
      },
      "execution_count": null,
      "outputs": []
    },
    {
      "cell_type": "code",
      "source": [
        "df.info()"
      ],
      "metadata": {
        "colab": {
          "base_uri": "https://localhost:8080/"
        },
        "id": "yaTHA_A7bewQ",
        "outputId": "b0e95a69-6e2e-4cb2-eba7-4d42cab24354"
      },
      "execution_count": null,
      "outputs": [
        {
          "output_type": "stream",
          "name": "stdout",
          "text": [
            "<class 'pandas.core.frame.DataFrame'>\n",
            "RangeIndex: 5824 entries, 0 to 5823\n",
            "Data columns (total 24 columns):\n",
            " #   Column                       Non-Null Count  Dtype  \n",
            "---  ------                       --------------  -----  \n",
            " 0   id                           5824 non-null   int64  \n",
            " 1   label                        5764 non-null   object \n",
            " 2   cap-shape                    5824 non-null   object \n",
            " 3   cap-surface                  5797 non-null   object \n",
            " 4   bruises                      5725 non-null   object \n",
            " 5   odor                         5725 non-null   object \n",
            " 6   gill-attachment              5725 non-null   object \n",
            " 7   gill-spacing                 5694 non-null   object \n",
            " 8   gill-size                    5703 non-null   object \n",
            " 9   stalk-shape                  5703 non-null   object \n",
            " 10  stalk-root                   5793 non-null   object \n",
            " 11  stalk-surface-above-ring     5793 non-null   object \n",
            " 12  stalk-surface-below-ring     5793 non-null   object \n",
            " 13  veil-type                    5762 non-null   object \n",
            " 14  ring-number                  5762 non-null   object \n",
            " 15  ring-type                    5762 non-null   object \n",
            " 16  spore-print-color            5768 non-null   object \n",
            " 17  population                   5768 non-null   object \n",
            " 18  habitat                      5793 non-null   object \n",
            " 19  cap-color-rate               5797 non-null   float64\n",
            " 20  gill-color-rate              5703 non-null   float64\n",
            " 21  veil-color-rate              5762 non-null   float64\n",
            " 22  stalk-color-above-ring-rate  5793 non-null   float64\n",
            " 23  stalk-color-below-ring-rate  5762 non-null   float64\n",
            "dtypes: float64(5), int64(1), object(18)\n",
            "memory usage: 1.1+ MB\n"
          ]
        }
      ]
    },
    {
      "cell_type": "code",
      "source": [
        "df.head()"
      ],
      "metadata": {
        "colab": {
          "base_uri": "https://localhost:8080/",
          "height": 369
        },
        "id": "DPHwFjssblxQ",
        "outputId": "7d65ac6f-b7d8-41d3-adb4-4148eee72c19"
      },
      "execution_count": null,
      "outputs": [
        {
          "output_type": "execute_result",
          "data": {
            "text/plain": [
              "   id label cap-shape cap-surface bruises odor gill-attachment gill-spacing  \\\n",
              "0   1     p         x           s       t    p               f            c   \n",
              "1   2     e         x           s       t    a               f            c   \n",
              "2   3     e         b           s       t    l               f            c   \n",
              "3   4     p         x           y       t    p               f            c   \n",
              "4   5     e         x           s       f    n               f            w   \n",
              "\n",
              "  gill-size stalk-shape  ... ring-number ring-type spore-print-color  \\\n",
              "0         n           e  ...           o         p                 k   \n",
              "1         b           e  ...           o         p                 n   \n",
              "2         b           e  ...           o         p                 n   \n",
              "3         n           e  ...           o         p                 k   \n",
              "4         b           t  ...           o         e                 n   \n",
              "\n",
              "  population habitat cap-color-rate gill-color-rate veil-color-rate  \\\n",
              "0          s       u            1.0             3.0             1.0   \n",
              "1          n       g            2.0             3.0             1.0   \n",
              "2          n       m            3.0             1.0             1.0   \n",
              "3          s       u            3.0             1.0             1.0   \n",
              "4          a       g            4.0             3.0             1.0   \n",
              "\n",
              "  stalk-color-above-ring-rate  stalk-color-below-ring-rate  \n",
              "0                         1.0                          1.0  \n",
              "1                         1.0                          1.0  \n",
              "2                         1.0                          1.0  \n",
              "3                         1.0                          1.0  \n",
              "4                         1.0                          1.0  \n",
              "\n",
              "[5 rows x 24 columns]"
            ],
            "text/html": [
              "\n",
              "  <div id=\"df-cad03603-6217-4c09-8f0e-5da28c4f9d1a\">\n",
              "    <div class=\"colab-df-container\">\n",
              "      <div>\n",
              "<style scoped>\n",
              "    .dataframe tbody tr th:only-of-type {\n",
              "        vertical-align: middle;\n",
              "    }\n",
              "\n",
              "    .dataframe tbody tr th {\n",
              "        vertical-align: top;\n",
              "    }\n",
              "\n",
              "    .dataframe thead th {\n",
              "        text-align: right;\n",
              "    }\n",
              "</style>\n",
              "<table border=\"1\" class=\"dataframe\">\n",
              "  <thead>\n",
              "    <tr style=\"text-align: right;\">\n",
              "      <th></th>\n",
              "      <th>id</th>\n",
              "      <th>label</th>\n",
              "      <th>cap-shape</th>\n",
              "      <th>cap-surface</th>\n",
              "      <th>bruises</th>\n",
              "      <th>odor</th>\n",
              "      <th>gill-attachment</th>\n",
              "      <th>gill-spacing</th>\n",
              "      <th>gill-size</th>\n",
              "      <th>stalk-shape</th>\n",
              "      <th>...</th>\n",
              "      <th>ring-number</th>\n",
              "      <th>ring-type</th>\n",
              "      <th>spore-print-color</th>\n",
              "      <th>population</th>\n",
              "      <th>habitat</th>\n",
              "      <th>cap-color-rate</th>\n",
              "      <th>gill-color-rate</th>\n",
              "      <th>veil-color-rate</th>\n",
              "      <th>stalk-color-above-ring-rate</th>\n",
              "      <th>stalk-color-below-ring-rate</th>\n",
              "    </tr>\n",
              "  </thead>\n",
              "  <tbody>\n",
              "    <tr>\n",
              "      <th>0</th>\n",
              "      <td>1</td>\n",
              "      <td>p</td>\n",
              "      <td>x</td>\n",
              "      <td>s</td>\n",
              "      <td>t</td>\n",
              "      <td>p</td>\n",
              "      <td>f</td>\n",
              "      <td>c</td>\n",
              "      <td>n</td>\n",
              "      <td>e</td>\n",
              "      <td>...</td>\n",
              "      <td>o</td>\n",
              "      <td>p</td>\n",
              "      <td>k</td>\n",
              "      <td>s</td>\n",
              "      <td>u</td>\n",
              "      <td>1.0</td>\n",
              "      <td>3.0</td>\n",
              "      <td>1.0</td>\n",
              "      <td>1.0</td>\n",
              "      <td>1.0</td>\n",
              "    </tr>\n",
              "    <tr>\n",
              "      <th>1</th>\n",
              "      <td>2</td>\n",
              "      <td>e</td>\n",
              "      <td>x</td>\n",
              "      <td>s</td>\n",
              "      <td>t</td>\n",
              "      <td>a</td>\n",
              "      <td>f</td>\n",
              "      <td>c</td>\n",
              "      <td>b</td>\n",
              "      <td>e</td>\n",
              "      <td>...</td>\n",
              "      <td>o</td>\n",
              "      <td>p</td>\n",
              "      <td>n</td>\n",
              "      <td>n</td>\n",
              "      <td>g</td>\n",
              "      <td>2.0</td>\n",
              "      <td>3.0</td>\n",
              "      <td>1.0</td>\n",
              "      <td>1.0</td>\n",
              "      <td>1.0</td>\n",
              "    </tr>\n",
              "    <tr>\n",
              "      <th>2</th>\n",
              "      <td>3</td>\n",
              "      <td>e</td>\n",
              "      <td>b</td>\n",
              "      <td>s</td>\n",
              "      <td>t</td>\n",
              "      <td>l</td>\n",
              "      <td>f</td>\n",
              "      <td>c</td>\n",
              "      <td>b</td>\n",
              "      <td>e</td>\n",
              "      <td>...</td>\n",
              "      <td>o</td>\n",
              "      <td>p</td>\n",
              "      <td>n</td>\n",
              "      <td>n</td>\n",
              "      <td>m</td>\n",
              "      <td>3.0</td>\n",
              "      <td>1.0</td>\n",
              "      <td>1.0</td>\n",
              "      <td>1.0</td>\n",
              "      <td>1.0</td>\n",
              "    </tr>\n",
              "    <tr>\n",
              "      <th>3</th>\n",
              "      <td>4</td>\n",
              "      <td>p</td>\n",
              "      <td>x</td>\n",
              "      <td>y</td>\n",
              "      <td>t</td>\n",
              "      <td>p</td>\n",
              "      <td>f</td>\n",
              "      <td>c</td>\n",
              "      <td>n</td>\n",
              "      <td>e</td>\n",
              "      <td>...</td>\n",
              "      <td>o</td>\n",
              "      <td>p</td>\n",
              "      <td>k</td>\n",
              "      <td>s</td>\n",
              "      <td>u</td>\n",
              "      <td>3.0</td>\n",
              "      <td>1.0</td>\n",
              "      <td>1.0</td>\n",
              "      <td>1.0</td>\n",
              "      <td>1.0</td>\n",
              "    </tr>\n",
              "    <tr>\n",
              "      <th>4</th>\n",
              "      <td>5</td>\n",
              "      <td>e</td>\n",
              "      <td>x</td>\n",
              "      <td>s</td>\n",
              "      <td>f</td>\n",
              "      <td>n</td>\n",
              "      <td>f</td>\n",
              "      <td>w</td>\n",
              "      <td>b</td>\n",
              "      <td>t</td>\n",
              "      <td>...</td>\n",
              "      <td>o</td>\n",
              "      <td>e</td>\n",
              "      <td>n</td>\n",
              "      <td>a</td>\n",
              "      <td>g</td>\n",
              "      <td>4.0</td>\n",
              "      <td>3.0</td>\n",
              "      <td>1.0</td>\n",
              "      <td>1.0</td>\n",
              "      <td>1.0</td>\n",
              "    </tr>\n",
              "  </tbody>\n",
              "</table>\n",
              "<p>5 rows × 24 columns</p>\n",
              "</div>\n",
              "      <button class=\"colab-df-convert\" onclick=\"convertToInteractive('df-cad03603-6217-4c09-8f0e-5da28c4f9d1a')\"\n",
              "              title=\"Convert this dataframe to an interactive table.\"\n",
              "              style=\"display:none;\">\n",
              "        \n",
              "  <svg xmlns=\"http://www.w3.org/2000/svg\" height=\"24px\"viewBox=\"0 0 24 24\"\n",
              "       width=\"24px\">\n",
              "    <path d=\"M0 0h24v24H0V0z\" fill=\"none\"/>\n",
              "    <path d=\"M18.56 5.44l.94 2.06.94-2.06 2.06-.94-2.06-.94-.94-2.06-.94 2.06-2.06.94zm-11 1L8.5 8.5l.94-2.06 2.06-.94-2.06-.94L8.5 2.5l-.94 2.06-2.06.94zm10 10l.94 2.06.94-2.06 2.06-.94-2.06-.94-.94-2.06-.94 2.06-2.06.94z\"/><path d=\"M17.41 7.96l-1.37-1.37c-.4-.4-.92-.59-1.43-.59-.52 0-1.04.2-1.43.59L10.3 9.45l-7.72 7.72c-.78.78-.78 2.05 0 2.83L4 21.41c.39.39.9.59 1.41.59.51 0 1.02-.2 1.41-.59l7.78-7.78 2.81-2.81c.8-.78.8-2.07 0-2.86zM5.41 20L4 18.59l7.72-7.72 1.47 1.35L5.41 20z\"/>\n",
              "  </svg>\n",
              "      </button>\n",
              "      \n",
              "  <style>\n",
              "    .colab-df-container {\n",
              "      display:flex;\n",
              "      flex-wrap:wrap;\n",
              "      gap: 12px;\n",
              "    }\n",
              "\n",
              "    .colab-df-convert {\n",
              "      background-color: #E8F0FE;\n",
              "      border: none;\n",
              "      border-radius: 50%;\n",
              "      cursor: pointer;\n",
              "      display: none;\n",
              "      fill: #1967D2;\n",
              "      height: 32px;\n",
              "      padding: 0 0 0 0;\n",
              "      width: 32px;\n",
              "    }\n",
              "\n",
              "    .colab-df-convert:hover {\n",
              "      background-color: #E2EBFA;\n",
              "      box-shadow: 0px 1px 2px rgba(60, 64, 67, 0.3), 0px 1px 3px 1px rgba(60, 64, 67, 0.15);\n",
              "      fill: #174EA6;\n",
              "    }\n",
              "\n",
              "    [theme=dark] .colab-df-convert {\n",
              "      background-color: #3B4455;\n",
              "      fill: #D2E3FC;\n",
              "    }\n",
              "\n",
              "    [theme=dark] .colab-df-convert:hover {\n",
              "      background-color: #434B5C;\n",
              "      box-shadow: 0px 1px 3px 1px rgba(0, 0, 0, 0.15);\n",
              "      filter: drop-shadow(0px 1px 2px rgba(0, 0, 0, 0.3));\n",
              "      fill: #FFFFFF;\n",
              "    }\n",
              "  </style>\n",
              "\n",
              "      <script>\n",
              "        const buttonEl =\n",
              "          document.querySelector('#df-cad03603-6217-4c09-8f0e-5da28c4f9d1a button.colab-df-convert');\n",
              "        buttonEl.style.display =\n",
              "          google.colab.kernel.accessAllowed ? 'block' : 'none';\n",
              "\n",
              "        async function convertToInteractive(key) {\n",
              "          const element = document.querySelector('#df-cad03603-6217-4c09-8f0e-5da28c4f9d1a');\n",
              "          const dataTable =\n",
              "            await google.colab.kernel.invokeFunction('convertToInteractive',\n",
              "                                                     [key], {});\n",
              "          if (!dataTable) return;\n",
              "\n",
              "          const docLinkHtml = 'Like what you see? Visit the ' +\n",
              "            '<a target=\"_blank\" href=https://colab.research.google.com/notebooks/data_table.ipynb>data table notebook</a>'\n",
              "            + ' to learn more about interactive tables.';\n",
              "          element.innerHTML = '';\n",
              "          dataTable['output_type'] = 'display_data';\n",
              "          await google.colab.output.renderOutput(dataTable, element);\n",
              "          const docLink = document.createElement('div');\n",
              "          docLink.innerHTML = docLinkHtml;\n",
              "          element.appendChild(docLink);\n",
              "        }\n",
              "      </script>\n",
              "    </div>\n",
              "  </div>\n",
              "  "
            ]
          },
          "metadata": {},
          "execution_count": 9
        }
      ]
    },
    {
      "cell_type": "code",
      "source": [
        "df = df[df['label']=='e']"
      ],
      "metadata": {
        "id": "n7bxLdHZbmm3"
      },
      "execution_count": null,
      "outputs": []
    },
    {
      "cell_type": "code",
      "source": [
        "df.isna().sum()"
      ],
      "metadata": {
        "colab": {
          "base_uri": "https://localhost:8080/"
        },
        "id": "RYxNr_Nycv0b",
        "outputId": "3f3cb070-2945-4951-d0ce-94cff125166a"
      },
      "execution_count": null,
      "outputs": [
        {
          "output_type": "execute_result",
          "data": {
            "text/plain": [
              "id                              0\n",
              "label                           0\n",
              "cap-shape                       0\n",
              "cap-surface                     6\n",
              "bruises                        27\n",
              "odor                           27\n",
              "gill-attachment                27\n",
              "gill-spacing                   55\n",
              "gill-size                      49\n",
              "stalk-shape                    49\n",
              "stalk-root                     28\n",
              "stalk-surface-above-ring       28\n",
              "stalk-surface-below-ring       28\n",
              "veil-type                      34\n",
              "ring-number                    34\n",
              "ring-type                      34\n",
              "spore-print-color              32\n",
              "population                     32\n",
              "habitat                        28\n",
              "cap-color-rate                  6\n",
              "gill-color-rate                49\n",
              "veil-color-rate                34\n",
              "stalk-color-above-ring-rate    28\n",
              "stalk-color-below-ring-rate    34\n",
              "dtype: int64"
            ]
          },
          "metadata": {},
          "execution_count": 112
        }
      ]
    },
    {
      "cell_type": "code",
      "source": [
        "df['cap-color-rate'].fillna(df['cap-color-rate'].mean(),inplace=True)"
      ],
      "metadata": {
        "id": "mTiNFQTvnTa5"
      },
      "execution_count": null,
      "outputs": []
    },
    {
      "cell_type": "code",
      "source": [
        "df['stalk-color-above-ring-rate'].fillna(df['stalk-color-above-ring-rate'].mean(),inplace=True)"
      ],
      "metadata": {
        "id": "oZprnR4GqiOO"
      },
      "execution_count": null,
      "outputs": []
    },
    {
      "cell_type": "code",
      "source": [
        "print(df['cap-color-rate'].isna().sum())\n",
        "print(df['stalk-color-above-ring-rate'].isna().sum())"
      ],
      "metadata": {
        "colab": {
          "base_uri": "https://localhost:8080/"
        },
        "id": "HmcCBl5OAZjt",
        "outputId": "36cba9fc-bf7c-40ed-ec14-c83d4efc0897"
      },
      "execution_count": null,
      "outputs": [
        {
          "output_type": "stream",
          "name": "stdout",
          "text": [
            "0\n",
            "0\n"
          ]
        }
      ]
    },
    {
      "cell_type": "code",
      "source": [
        "print(df['cap-color-rate'].value_counts())\n",
        "print(df['stalk-color-above-ring-rate'].value_counts())"
      ],
      "metadata": {
        "colab": {
          "base_uri": "https://localhost:8080/"
        },
        "id": "FKd-aHV8Ajlf",
        "outputId": "8a4fa8b3-48f8-4636-fa4f-1e5ca7b985c4"
      },
      "execution_count": null,
      "outputs": [
        {
          "output_type": "stream",
          "name": "stdout",
          "text": [
            "1.000000     669\n",
            "4.000000     583\n",
            "5.000000     506\n",
            "3.000000     170\n",
            "6.000000      54\n",
            "7.000000      46\n",
            "9.000000      32\n",
            "8.000000      16\n",
            "10.000000     16\n",
            "2.000000       6\n",
            "3.467588       6\n",
            "Name: cap-color-rate, dtype: int64\n",
            "1.000000    949\n",
            "2.000000    414\n",
            "3.000000    409\n",
            "7.000000    192\n",
            "6.000000     96\n",
            "2.410405     28\n",
            "5.000000     16\n",
            "Name: stalk-color-above-ring-rate, dtype: int64\n"
          ]
        }
      ]
    },
    {
      "cell_type": "code",
      "source": [
        "print(df['cap-color-rate'].describe())\n",
        "print(df['stalk-color-above-ring-rate'].describe())"
      ],
      "metadata": {
        "colab": {
          "base_uri": "https://localhost:8080/"
        },
        "id": "2V_0AW19pzuT",
        "outputId": "653636ec-7aa6-4760-edcc-95d7913ef3cb"
      },
      "execution_count": null,
      "outputs": [
        {
          "output_type": "stream",
          "name": "stdout",
          "text": [
            "count    2104.000000\n",
            "mean        3.466255\n",
            "std         1.997336\n",
            "min         1.000000\n",
            "25%         1.000000\n",
            "50%         4.000000\n",
            "75%         5.000000\n",
            "max        10.000000\n",
            "Name: cap-color-rate, dtype: float64\n",
            "count    2104.000000\n",
            "mean        2.404943\n",
            "std         1.887591\n",
            "min         1.000000\n",
            "25%         1.000000\n",
            "50%         2.000000\n",
            "75%         3.000000\n",
            "max         7.000000\n",
            "Name: stalk-color-above-ring-rate, dtype: float64\n"
          ]
        }
      ]
    },
    {
      "cell_type": "code",
      "source": [
        "data = df[['cap-color-rate','stalk-color-above-ring-rate']].to_numpy()"
      ],
      "metadata": {
        "id": "PwxXZQb-urnH"
      },
      "execution_count": null,
      "outputs": []
    },
    {
      "cell_type": "code",
      "source": [
        "data"
      ],
      "metadata": {
        "colab": {
          "base_uri": "https://localhost:8080/"
        },
        "id": "ZNyMfs1HA25l",
        "outputId": "4c5b8620-8f15-4f94-a511-809f923c8129"
      },
      "execution_count": null,
      "outputs": [
        {
          "output_type": "execute_result",
          "data": {
            "text/plain": [
              "array([[2., 1.],\n",
              "       [3., 1.],\n",
              "       [4., 1.],\n",
              "       ...,\n",
              "       [1., 7.],\n",
              "       [1., 7.],\n",
              "       [1., 7.]])"
            ]
          },
          "metadata": {},
          "execution_count": 128
        }
      ]
    },
    {
      "cell_type": "code",
      "source": [
        "from sklearn.preprocessing import StandardScaler\n",
        "scaler = StandardScaler()\n",
        "scaler.fit(data)\n",
        "trans_data = scaler.transform(data)"
      ],
      "metadata": {
        "id": "UYXtia0Lv-Ps"
      },
      "execution_count": null,
      "outputs": []
    },
    {
      "cell_type": "code",
      "source": [
        "org_data = scaler.inverse_transform(trans_data)"
      ],
      "metadata": {
        "id": "jE3wtZyJ1Pdc"
      },
      "execution_count": null,
      "outputs": []
    },
    {
      "cell_type": "code",
      "source": [
        "print(trans_data[:5])\n",
        "print(org_data[:5])"
      ],
      "metadata": {
        "colab": {
          "base_uri": "https://localhost:8080/"
        },
        "id": "BDTKfo0S1S-j",
        "outputId": "c59f7461-3af4-4d0a-c273-3e113519d3e2"
      },
      "execution_count": null,
      "outputs": [
        {
          "output_type": "stream",
          "name": "stdout",
          "text": [
            "[[-0.73427978 -0.7444817 ]\n",
            " [-0.23349383 -0.7444817 ]\n",
            " [ 0.26729212 -0.7444817 ]\n",
            " [-0.73427978 -0.7444817 ]\n",
            " [-0.23349383 -0.7444817 ]]\n",
            "[[2. 1.]\n",
            " [3. 1.]\n",
            " [4. 1.]\n",
            " [2. 1.]\n",
            " [3. 1.]]\n"
          ]
        }
      ]
    },
    {
      "cell_type": "code",
      "source": [
        "len(trans_data)"
      ],
      "metadata": {
        "colab": {
          "base_uri": "https://localhost:8080/"
        },
        "id": "dQOWnjmg360c",
        "outputId": "79bf8788-f706-4356-ab5c-b5443c3bf86a"
      },
      "execution_count": null,
      "outputs": [
        {
          "output_type": "execute_result",
          "data": {
            "text/plain": [
              "2104"
            ]
          },
          "metadata": {},
          "execution_count": 93
        }
      ]
    },
    {
      "cell_type": "code",
      "source": [
        "plt.scatter(trans_data[:,0],trans_data[:,1],cmap='rainbow')"
      ],
      "metadata": {
        "colab": {
          "base_uri": "https://localhost:8080/",
          "height": 282
        },
        "id": "BYlbvhHx5nEs",
        "outputId": "e7d3f2dc-8d65-4973-914d-de184819e31a"
      },
      "execution_count": null,
      "outputs": [
        {
          "output_type": "execute_result",
          "data": {
            "text/plain": [
              "<matplotlib.collections.PathCollection at 0x7fc75a066ed0>"
            ]
          },
          "metadata": {},
          "execution_count": 135
        },
        {
          "output_type": "display_data",
          "data": {
            "text/plain": [
              "<Figure size 432x288 with 1 Axes>"
            ],
            "image/png": "[encoded data removed]"
          },
          "metadata": {
            "needs_background": "light"
          }
        }
      ]
    },
    {
      "cell_type": "code",
      "source": [
        "kmeans = KMeans(n_clusters=5,random_state=2020)"
      ],
      "metadata": {
        "id": "KWcoFemS5zQX"
      },
      "execution_count": null,
      "outputs": []
    },
    {
      "cell_type": "code",
      "source": [
        "kmeans.fit(trans_data)"
      ],
      "metadata": {
        "colab": {
          "base_uri": "https://localhost:8080/"
        },
        "id": "TTa0dQFF6lpj",
        "outputId": "370c0550-ba1d-48fd-b7ca-4e480ef12933"
      },
      "execution_count": null,
      "outputs": [
        {
          "output_type": "execute_result",
          "data": {
            "text/plain": [
              "KMeans(n_clusters=5, random_state=2020)"
            ]
          },
          "metadata": {},
          "execution_count": 147
        }
      ]
    },
    {
      "cell_type": "code",
      "source": [
        "print(kmeans.cluster_centers_)"
      ],
      "metadata": {
        "colab": {
          "base_uri": "https://localhost:8080/"
        },
        "id": "m0SKGy7k6ufA",
        "outputId": "b7d4bec2-d92c-4e07-ebf5-ef5171a37d5d"
      },
      "execution_count": null,
      "outputs": [
        {
          "output_type": "stream",
          "name": "stdout",
          "text": [
            "[[ 0.41361805 -0.37536859]\n",
            " [-1.23582983  2.30658376]\n",
            " [-1.22906193 -0.29354739]\n",
            " [ 2.5059661  -0.74760802]\n",
            " [ 1.2093128   1.90272369]]\n"
          ]
        }
      ]
    },
    {
      "cell_type": "code",
      "source": [
        "trans_data[:,0].max()"
      ],
      "metadata": {
        "colab": {
          "base_uri": "https://localhost:8080/"
        },
        "id": "EWQBI-O1HbWi",
        "outputId": "263b840a-6341-4462-fbf6-15290c5ea14a"
      },
      "execution_count": null,
      "outputs": [
        {
          "output_type": "execute_result",
          "data": {
            "text/plain": [
              "3.2715951093044"
            ]
          },
          "metadata": {},
          "execution_count": 165
        }
      ]
    },
    {
      "cell_type": "code",
      "source": [
        "trans_data[:,1].min()"
      ],
      "metadata": {
        "colab": {
          "base_uri": "https://localhost:8080/"
        },
        "id": "r9SYZkR6Hxse",
        "outputId": "5ac045d9-31ff-4441-df33-d7134eefc9c1"
      },
      "execution_count": null,
      "outputs": [
        {
          "output_type": "execute_result",
          "data": {
            "text/plain": [
              "-0.7476080188414364"
            ]
          },
          "metadata": {},
          "execution_count": 164
        }
      ]
    },
    {
      "cell_type": "code",
      "source": [
        "plt.scatter(trans_data[:,0],trans_data[:,1],c=kmeans.labels_,cmap='rainbow')\n",
        "plt.xlabel(\"cap-color-rate\")\n",
        "plt.ylabel(\"stalk-color-above-ring-rate\")\n",
        "plt.show()"
      ],
      "metadata": {
        "colab": {
          "base_uri": "https://localhost:8080/",
          "height": 279
        },
        "id": "RQpl3lwg9SSG",
        "outputId": "389ac12a-5cf6-45de-d170-15097b6b450f"
      },
      "execution_count": null,
      "outputs": [
        {
          "output_type": "display_data",
          "data": {
            "text/plain": [
              "<Figure size 432x288 with 1 Axes>"
            ],
            "image/png": "[encoded data removed]"
          },
          "metadata": {
            "needs_background": "light"
          }
        }
      ]
    },
    {
      "cell_type": "code",
      "source": [
        "# แบ่งออกเป็นห้ากลุ่ม \n",
        "# กลุ่มที่ 1 มี centroid ที่ตำแหน่ง (0.413,-0.375) จากกราฟคือกลุ่มสีม่วง มีข้อมูลอยู่ในแกน X ช่วงประมาณ -0.3 ถึง 1.3 มีข้อมูลอยู่ในแกน y ช่วงประมาณ -0.7 ถึง 0.4\n",
        "# กลุ่มที่ 2 มี centroid ที่ตำแหน่ง (-1.235,2.306) จากกราฟคือกลุ่มสีฟ้า มีข้อมูลอยู่ในแกน X ช่วงประมาณ -1.2 ถึง -1 มีข้อมูลอยู่ในแกน y ช่วงประมาณ 1.4 ถึง 2.5\n",
        "# กลุ่มที่ 3 มี centroid ที่ตำแหน่ง (-1.229,-0.293) จากกราฟคือกลุ่มสีเขียว มีข้อมูลอยู่ในแกน X ช่วงประมาณ -1.2 มีข้อมูลอยู่ในแกน y ช่วงประมาณ -0.7 ถึง 0.4\n",
        "# กลุ่มที่ 4 มี centroid ที่ตำแหน่ง (2.505,-0.747) จากกราฟคือกลุ่มสีเหลือง มีข้อมูลอยู่ในแกน X ช่วงประมาณ 1.8 ถึง 3.28 มีข้อมูลอยู่ในแกน y ช่วงประมาณ -0.7 \n",
        "# กลุ่มที่ 5 มี centroid ที่ตำแหน่ง 1.209,1.902) จากกราฟคือกลุ่มสีแดง มีข้อมูลอยู่ในแกน X ช่วงประมาณ 0 ถึง 2 มีข้อมูลอยู่ในแกน y ช่วงประมาณ 1.9"
      ],
      "metadata": {
        "id": "YH9_aj5q9WjC"
      },
      "execution_count": null,
      "outputs": []
    }
  ]
}