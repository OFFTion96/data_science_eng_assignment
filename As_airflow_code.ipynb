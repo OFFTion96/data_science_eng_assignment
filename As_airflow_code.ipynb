{
  "nbformat": 4,
  "nbformat_minor": 0,
  "metadata": {
    "colab": {
      "provenance": []
    },
    "kernelspec": {
      "name": "python3",
      "display_name": "Python 3"
    },
    "language_info": {
      "name": "python"
    }
  },
  "cells": [
    {
      "cell_type": "code",
      "execution_count": null,
      "metadata": {
        "id": "T2qeOrsn6wR0"
      },
      "outputs": [],
      "source": [
        "#\n",
        "import json\n",
        "from airflow.operators.bash import BashOperator\n",
        "from airflow.operators.dummy import DummyOperator\n",
        "from airflow.operators.python import PythonOperator\n",
        "from airflow.utils.dates import days_ago\n",
        "from airflow import DAG\n",
        "\n",
        "from airflow.providers.http.operators.http import SimpleHttpOperator\n",
        "\n",
        "def show_status(result1,result2):\n",
        "    print('All result from rest api compute')\n",
        "    print('result1, = ', result1,)\n",
        "    print('result2, = ', result2,)\n",
        "    print('--- DONE ---')\n",
        "\n",
        "with DAG('rest_fastapi', start_date=days_ago(1)) as dag:\n",
        "\n",
        "    post_op1 = SimpleHttpOperator(\n",
        "        task_id='post_op1',\n",
        "        endpoint='compute',\n",
        "        http_conn_id='localhttp',\n",
        "        data=json.dumps({\"m\": 2, 'x': 14, 'c': 3}),\n",
        "        headers={\"Content-Type\": \"application/json\"},\n",
        "        response_check=lambda response: response.json()['result'] == 31\n",
        "    )\n",
        "    post_op2 = SimpleHttpOperator(\n",
        "    task_id='post_op2',\n",
        "    endpoint='compute',\n",
        "    http_conn_id='localhttp',\n",
        "    data=json.dumps({\"m\": -0.5, 'x': 3, 'c': 0}),\n",
        "    headers={\"Content-Type\": \"application/json\"},\n",
        "    response_check=lambda response: response.json()['result'] == -1.5\n",
        ")\n",
        "    # task_get_op = SimpleHttpOperator(\n",
        "    # task_id=\"get_op\",\n",
        "    # method=\"GET\",\n",
        "    # endpoint=\"/\",\n",
        "    # data={\"param1\": \"value1\"},\n",
        "    # headers={},\n",
        "    #     )\n",
        "    inform = PythonOperator(task_id='inform_status1', python_callable=show_status, op_args=[post_op1.output,post_op2.output])\n",
        "    start = DummyOperator(task_id='start_task')\n",
        "  \n",
        "    start >> [post_op1,post_op2] >>inform\n",
        "    "
      ]
    },
    {
      "cell_type": "code",
      "source": [
        "from typing import Union\n",
        "from fastapi import FastAPI\n",
        "from pydantic import BaseModel\n",
        "import uvicorn\n",
        "\n",
        "app = FastAPI()\n",
        "\n",
        "class Item(BaseModel):\n",
        "    x: float\n",
        "    m: float\n",
        "    c: float\n",
        "\n",
        "@app.post(\"/compute\")\n",
        "async def login(item:Item):\n",
        "    y = (item.m*item.x)+item.c\n",
        "    return{\"result\":y}\n",
        "\n",
        "@app.get(\"/\")\n",
        "async def read_root():\n",
        "    return {\"Hello\": \"World\"}\n",
        "\n",
        "if __name__ == \"__main__\":\n",
        "    uvicorn.run('fastapi-compute:app', host=\"0.0.0.0\", port=8000, reload=True)"
      ],
      "metadata": {
        "id": "xQcRAZjP7I63"
      },
      "execution_count": null,
      "outputs": []
    }
  ]
}