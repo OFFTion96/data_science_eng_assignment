{
 "cells": [
  {
   "cell_type": "code",
   "execution_count": 79,
   "id": "eaca74b5",
   "metadata": {},
   "outputs": [],
   "source": [
    "from selenium import webdriver\n",
    "from selenium.webdriver.common.keys import Keys\n",
    "from selenium.webdriver.common.by import By\n",
    "from selenium.webdriver.support.ui import WebDriverWait \n",
    "from selenium.webdriver.support import expected_conditions as EC\n",
    "import time\n",
    "import re\n",
    "from collections import Counter"
   ]
  },
  {
   "cell_type": "code",
   "execution_count": 74,
   "id": "389b946e",
   "metadata": {},
   "outputs": [
    {
     "name": "stderr",
     "output_type": "stream",
     "text": [
      "C:\\Users\\apisa\\AppData\\Local\\Temp\\ipykernel_15560\\125541228.py:1: DeprecationWarning: executable_path has been deprecated, please pass in a Service object\n",
      "  driver = webdriver.Chrome(executable_path=r\"C:\\chromedriver.exe\")\n"
     ]
    }
   ],
   "source": [
    "driver = webdriver.Chrome(executable_path=r\"C:\\chromedriver.exe\")\n",
    "driver.get(\"https://www.myhora.com/%E0%B8%9B%E0%B8%8F%E0%B8%B4%E0%B8%97%E0%B8%B4%E0%B8%99/%E0%B8%A7%E0%B8%B1%E0%B8%99%E0%B8%9E%E0%B8%A3%E0%B8%B0-%E0%B8%9E.%E0%B8%A8.2563.aspx\")"
   ]
  },
  {
   "cell_type": "code",
   "execution_count": 22,
   "id": "5c9d22a0",
   "metadata": {},
   "outputs": [],
   "source": [
    "def scroll():\n",
    "    scheight = 0.1\n",
    "    while scheight < 10:\n",
    "        driver.execute_script(\"window.scrollTo(0,document.body.scrollHeight/%s);\"%scheight)\n",
    "        scheight+=0.01"
   ]
  },
  {
   "cell_type": "code",
   "execution_count": 58,
   "id": "a0f97e45",
   "metadata": {},
   "outputs": [],
   "source": [
    "def get_all_day():\n",
    "    day_list = []\n",
    "    row = len(driver.find_elements('xpath','//div[@id=\"print_div1\"]//div[@class=\"bud-day\"]'))\n",
    "    for i in range(row):\n",
    "        text = driver.find_elements('xpath','//div[@id=\"print_div1\"]//div[@class=\"bud-day\"]')[i].text.split(\"\\n\")[0].split(\" \")[0].split(\"วัน\")[1].split(\"ที่\")[0]\n",
    "        day_list.append(text)\n",
    "    return day_list "
   ]
  },
  {
   "cell_type": "code",
   "execution_count": 76,
   "id": "e6e31099",
   "metadata": {},
   "outputs": [],
   "source": [
    "link_list = ['https://www.myhora.com/%E0%B8%9B%E0%B8%8F%E0%B8%B4%E0%B8%97%E0%B8%B4%E0%B8%99/%E0%B8%A7%E0%B8%B1%E0%B8%99%E0%B8%9E%E0%B8%A3%E0%B8%B0-%E0%B8%9E.%E0%B8%A8.2563.aspx',\n",
    "          'https://www.myhora.com/%E0%B8%9B%E0%B8%8F%E0%B8%B4%E0%B8%97%E0%B8%B4%E0%B8%99/%E0%B8%A7%E0%B8%B1%E0%B8%99%E0%B8%9E%E0%B8%A3%E0%B8%B0-%E0%B8%9E.%E0%B8%A8.2564.aspx',\n",
    "          'https://www.myhora.com/%E0%B8%9B%E0%B8%8F%E0%B8%B4%E0%B8%97%E0%B8%B4%E0%B8%99/%E0%B8%A7%E0%B8%B1%E0%B8%99%E0%B8%9E%E0%B8%A3%E0%B8%B0-%E0%B8%9E.%E0%B8%A8.2565.aspx']\n",
    "all_day = []\n",
    "for i in link_list:\n",
    "    driver.get(i)\n",
    "    time.sleep(1)\n",
    "    WebDriverWait (driver,10).until(EC.presence_of_element_located((By.XPATH,\"//div[@id='print_div1']\")))\n",
    "    scroll()\n",
    "    time.sleep(1)\n",
    "    day = get_all_day()\n",
    "    all_day = all_day + day"
   ]
  },
  {
   "cell_type": "code",
   "execution_count": 78,
   "id": "71ca2717",
   "metadata": {},
   "outputs": [
    {
     "data": {
      "text/plain": [
       "152"
      ]
     },
     "execution_count": 78,
     "metadata": {},
     "output_type": "execute_result"
    }
   ],
   "source": [
    "len(all_day)"
   ]
  },
  {
   "cell_type": "code",
   "execution_count": 80,
   "id": "12c287b8",
   "metadata": {},
   "outputs": [
    {
     "name": "stdout",
     "output_type": "stream",
     "text": [
      "Counter({'พฤหัสบดี': 24, 'ศุกร์': 22, 'จันทร์': 22, 'อังคาร': 22, 'อาทิตย์': 21, 'พุธ': 21, 'เสาร์': 20})\n"
     ]
    }
   ],
   "source": [
    "print(Counter(all_day))"
   ]
  },
  {
   "cell_type": "code",
   "execution_count": null,
   "id": "dba119c2",
   "metadata": {},
   "outputs": [],
   "source": []
  }
 ],
 "metadata": {
  "kernelspec": {
   "display_name": "Python 3 (ipykernel)",
   "language": "python",
   "name": "python3"
  },
  "language_info": {
   "codemirror_mode": {
    "name": "ipython",
    "version": 3
   },
   "file_extension": ".py",
   "mimetype": "text/x-python",
   "name": "python",
   "nbconvert_exporter": "python",
   "pygments_lexer": "ipython3",
   "version": "3.9.12"
  }
 },
 "nbformat": 4,
 "nbformat_minor": 5
}
