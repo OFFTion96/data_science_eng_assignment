{
  "cells": [
    {
      "cell_type": "markdown",
      "metadata": {
        "id": "OIom1X-v0TGc"
      },
      "source": [
        "# Assignment - Basic Pandas\n",
        "<sup>Created by Natawut Nupairoj, Department of Computer Engineering, Chulalongkorn University</sup>\n",
        "\n",
        "Using pandas to explore youtube trending data from GB (GBvideos.csv and GB_category_id.json) and answer the questions."
      ]
    },
    {
      "cell_type": "code",
      "execution_count": 39,
      "metadata": {
        "id": "_ooeQeBn0TGf"
      },
      "outputs": [],
      "source": [
        "import pandas as pd\n",
        "import numpy as np"
      ]
    },
    {
      "cell_type": "markdown",
      "metadata": {
        "id": "RNyAGpWT0TGh"
      },
      "source": [
        "To simplify data retrieval process on Colab, we heck if we are in the Colab environment and download data files from a shared drive and save them in folder \"data\".\n",
        "\n",
        "For those using jupyter notebook on the local computer, you can read data directly assuming you save data in the folder \"data\"."
      ]
    },
    {
      "cell_type": "code",
      "execution_count": 40,
      "metadata": {
        "id": "qro_9JWV0TGi",
        "colab": {
          "base_uri": "https://localhost:8080/"
        },
        "outputId": "e1b335e5-6cc2-48e5-dd42-4b4a3c6a87cc"
      },
      "outputs": [
        {
          "output_type": "stream",
          "name": "stdout",
          "text": [
            "--2022-08-18 15:39:26--  https://github.com/kaopanboonyuen/2110446_DataScience_2021s2/raw/main/datasets/data.tgz\n",
            "Resolving github.com (github.com)... 140.82.112.4\n",
            "Connecting to github.com (github.com)|140.82.112.4|:443... connected.\n",
            "HTTP request sent, awaiting response... 302 Found\n",
            "Location: https://raw.githubusercontent.com/kaopanboonyuen/2110446_DataScience_2021s2/main/datasets/data.tgz [following]\n",
            "--2022-08-18 15:39:26--  https://raw.githubusercontent.com/kaopanboonyuen/2110446_DataScience_2021s2/main/datasets/data.tgz\n",
            "Resolving raw.githubusercontent.com (raw.githubusercontent.com)... 185.199.108.133, 185.199.109.133, 185.199.110.133, ...\n",
            "Connecting to raw.githubusercontent.com (raw.githubusercontent.com)|185.199.108.133|:443... connected.\n",
            "HTTP request sent, awaiting response... 200 OK\n",
            "Length: 45477462 (43M) [application/octet-stream]\n",
            "Saving to: ‘data.tgz’\n",
            "\n",
            "data.tgz            100%[===================>]  43.37M   185MB/s    in 0.2s    \n",
            "\n",
            "2022-08-18 15:39:26 (185 MB/s) - ‘data.tgz’ saved [45477462/45477462]\n",
            "\n",
            "data/\n",
            "data/._GB_category_id.json\n",
            "data/GB_category_id.json\n",
            "data/._US_category_id.json\n",
            "data/US_category_id.json\n",
            "data/._USvideos.csv\n",
            "data/USvideos.csv\n",
            "data/._GBvideos.csv\n",
            "data/GBvideos.csv\n"
          ]
        }
      ],
      "source": [
        "import sys\n",
        "IN_COLAB = 'google.colab' in sys.modules\n",
        "if IN_COLAB:\n",
        "    !wget https://github.com/kaopanboonyuen/2110446_DataScience_2021s2/raw/main/datasets/data.tgz -O data.tgz\n",
        "    !tar -xzvf data.tgz"
      ]
    },
    {
      "cell_type": "code",
      "source": [
        "gb_video_df = pd.read_csv('data/GBvideos.csv')"
      ],
      "metadata": {
        "id": "E4E42sW7XeeV"
      },
      "execution_count": 41,
      "outputs": []
    },
    {
      "cell_type": "code",
      "source": [
        "gb_video_df.head()\n"
      ],
      "metadata": {
        "colab": {
          "base_uri": "https://localhost:8080/",
          "height": 583
        },
        "id": "VNiGRhqGX3UA",
        "outputId": "d411d4be-9a9e-4003-84a6-42d66ace4812"
      },
      "execution_count": 42,
      "outputs": [
        {
          "output_type": "execute_result",
          "data": {
            "text/plain": [
              "      video_id trending_date  \\\n",
              "0  Jw1Y-zhQURU      17.14.11   \n",
              "1  3s1rvMFUweQ      17.14.11   \n",
              "2  n1WpP7iowLc      17.14.11   \n",
              "3  PUTEiSjKwJU      17.14.11   \n",
              "4  rHwDegptbI4      17.14.11   \n",
              "\n",
              "                                               title  \\\n",
              "0      John Lewis Christmas Ad 2017 - #MozTheMonster   \n",
              "1          Taylor Swift: …Ready for It? (Live) - SNL   \n",
              "2         Eminem - Walk On Water (Audio) ft. Beyoncé   \n",
              "3  Goals from Salford City vs Class of 92 and Fri...   \n",
              "4  Dashcam captures truck's near miss with child ...   \n",
              "\n",
              "                channel_title  category_id              publish_time  \\\n",
              "0                  John Lewis           26  2017-11-10T07:38:29.000Z   \n",
              "1         Saturday Night Live           24  2017-11-12T06:24:44.000Z   \n",
              "2                  EminemVEVO           10  2017-11-10T17:00:03.000Z   \n",
              "3  Salford City Football Club           17  2017-11-13T02:30:38.000Z   \n",
              "4            Cute Girl Videos           25  2017-11-13T01:45:13.000Z   \n",
              "\n",
              "                                                tags     views   likes  \\\n",
              "0  christmas|\"john lewis christmas\"|\"john lewis\"|...   7224515   55681   \n",
              "1  SNL|\"Saturday Night Live\"|\"SNL Season 43\"|\"Epi...   1053632   25561   \n",
              "2  Eminem|\"Walk\"|\"On\"|\"Water\"|\"Aftermath/Shady/In...  17158579  787420   \n",
              "3  Salford City FC|\"Salford City\"|\"Salford\"|\"Clas...     27833     193   \n",
              "4                                             [none]      9815      30   \n",
              "\n",
              "   dislikes  comment_count                                  thumbnail_link  \\\n",
              "0     10247           9479  https://i.ytimg.com/vi/Jw1Y-zhQURU/default.jpg   \n",
              "1      2294           2757  https://i.ytimg.com/vi/3s1rvMFUweQ/default.jpg   \n",
              "2     43420         125882  https://i.ytimg.com/vi/n1WpP7iowLc/default.jpg   \n",
              "3        12             37  https://i.ytimg.com/vi/PUTEiSjKwJU/default.jpg   \n",
              "4         2             30  https://i.ytimg.com/vi/rHwDegptbI4/default.jpg   \n",
              "\n",
              "   comments_disabled  ratings_disabled  video_error_or_removed  \\\n",
              "0              False             False                   False   \n",
              "1              False             False                   False   \n",
              "2              False             False                   False   \n",
              "3              False             False                   False   \n",
              "4              False             False                   False   \n",
              "\n",
              "                                         description  \n",
              "0  Click here to continue the story and make your...  \n",
              "1  Musical guest Taylor Swift performs …Ready for...  \n",
              "2  Eminem's new track Walk on Water ft. Beyoncé i...  \n",
              "3  Salford drew 4-4 against the Class of 92 and F...  \n",
              "4  Dashcam captures truck's near miss with child ...  "
            ],
            "text/html": [
              "\n",
              "  <div id=\"df-b091ae93-49e5-41f1-b9a3-73148b406ce8\">\n",
              "    <div class=\"colab-df-container\">\n",
              "      <div>\n",
              "<style scoped>\n",
              "    .dataframe tbody tr th:only-of-type {\n",
              "        vertical-align: middle;\n",
              "    }\n",
              "\n",
              "    .dataframe tbody tr th {\n",
              "        vertical-align: top;\n",
              "    }\n",
              "\n",
              "    .dataframe thead th {\n",
              "        text-align: right;\n",
              "    }\n",
              "</style>\n",
              "<table border=\"1\" class=\"dataframe\">\n",
              "  <thead>\n",
              "    <tr style=\"text-align: right;\">\n",
              "      <th></th>\n",
              "      <th>video_id</th>\n",
              "      <th>trending_date</th>\n",
              "      <th>title</th>\n",
              "      <th>channel_title</th>\n",
              "      <th>category_id</th>\n",
              "      <th>publish_time</th>\n",
              "      <th>tags</th>\n",
              "      <th>views</th>\n",
              "      <th>likes</th>\n",
              "      <th>dislikes</th>\n",
              "      <th>comment_count</th>\n",
              "      <th>thumbnail_link</th>\n",
              "      <th>comments_disabled</th>\n",
              "      <th>ratings_disabled</th>\n",
              "      <th>video_error_or_removed</th>\n",
              "      <th>description</th>\n",
              "    </tr>\n",
              "  </thead>\n",
              "  <tbody>\n",
              "    <tr>\n",
              "      <th>0</th>\n",
              "      <td>Jw1Y-zhQURU</td>\n",
              "      <td>17.14.11</td>\n",
              "      <td>John Lewis Christmas Ad 2017 - #MozTheMonster</td>\n",
              "      <td>John Lewis</td>\n",
              "      <td>26</td>\n",
              "      <td>2017-11-10T07:38:29.000Z</td>\n",
              "      <td>christmas|\"john lewis christmas\"|\"john lewis\"|...</td>\n",
              "      <td>7224515</td>\n",
              "      <td>55681</td>\n",
              "      <td>10247</td>\n",
              "      <td>9479</td>\n",
              "      <td>https://i.ytimg.com/vi/Jw1Y-zhQURU/default.jpg</td>\n",
              "      <td>False</td>\n",
              "      <td>False</td>\n",
              "      <td>False</td>\n",
              "      <td>Click here to continue the story and make your...</td>\n",
              "    </tr>\n",
              "    <tr>\n",
              "      <th>1</th>\n",
              "      <td>3s1rvMFUweQ</td>\n",
              "      <td>17.14.11</td>\n",
              "      <td>Taylor Swift: …Ready for It? (Live) - SNL</td>\n",
              "      <td>Saturday Night Live</td>\n",
              "      <td>24</td>\n",
              "      <td>2017-11-12T06:24:44.000Z</td>\n",
              "      <td>SNL|\"Saturday Night Live\"|\"SNL Season 43\"|\"Epi...</td>\n",
              "      <td>1053632</td>\n",
              "      <td>25561</td>\n",
              "      <td>2294</td>\n",
              "      <td>2757</td>\n",
              "      <td>https://i.ytimg.com/vi/3s1rvMFUweQ/default.jpg</td>\n",
              "      <td>False</td>\n",
              "      <td>False</td>\n",
              "      <td>False</td>\n",
              "      <td>Musical guest Taylor Swift performs …Ready for...</td>\n",
              "    </tr>\n",
              "    <tr>\n",
              "      <th>2</th>\n",
              "      <td>n1WpP7iowLc</td>\n",
              "      <td>17.14.11</td>\n",
              "      <td>Eminem - Walk On Water (Audio) ft. Beyoncé</td>\n",
              "      <td>EminemVEVO</td>\n",
              "      <td>10</td>\n",
              "      <td>2017-11-10T17:00:03.000Z</td>\n",
              "      <td>Eminem|\"Walk\"|\"On\"|\"Water\"|\"Aftermath/Shady/In...</td>\n",
              "      <td>17158579</td>\n",
              "      <td>787420</td>\n",
              "      <td>43420</td>\n",
              "      <td>125882</td>\n",
              "      <td>https://i.ytimg.com/vi/n1WpP7iowLc/default.jpg</td>\n",
              "      <td>False</td>\n",
              "      <td>False</td>\n",
              "      <td>False</td>\n",
              "      <td>Eminem's new track Walk on Water ft. Beyoncé i...</td>\n",
              "    </tr>\n",
              "    <tr>\n",
              "      <th>3</th>\n",
              "      <td>PUTEiSjKwJU</td>\n",
              "      <td>17.14.11</td>\n",
              "      <td>Goals from Salford City vs Class of 92 and Fri...</td>\n",
              "      <td>Salford City Football Club</td>\n",
              "      <td>17</td>\n",
              "      <td>2017-11-13T02:30:38.000Z</td>\n",
              "      <td>Salford City FC|\"Salford City\"|\"Salford\"|\"Clas...</td>\n",
              "      <td>27833</td>\n",
              "      <td>193</td>\n",
              "      <td>12</td>\n",
              "      <td>37</td>\n",
              "      <td>https://i.ytimg.com/vi/PUTEiSjKwJU/default.jpg</td>\n",
              "      <td>False</td>\n",
              "      <td>False</td>\n",
              "      <td>False</td>\n",
              "      <td>Salford drew 4-4 against the Class of 92 and F...</td>\n",
              "    </tr>\n",
              "    <tr>\n",
              "      <th>4</th>\n",
              "      <td>rHwDegptbI4</td>\n",
              "      <td>17.14.11</td>\n",
              "      <td>Dashcam captures truck's near miss with child ...</td>\n",
              "      <td>Cute Girl Videos</td>\n",
              "      <td>25</td>\n",
              "      <td>2017-11-13T01:45:13.000Z</td>\n",
              "      <td>[none]</td>\n",
              "      <td>9815</td>\n",
              "      <td>30</td>\n",
              "      <td>2</td>\n",
              "      <td>30</td>\n",
              "      <td>https://i.ytimg.com/vi/rHwDegptbI4/default.jpg</td>\n",
              "      <td>False</td>\n",
              "      <td>False</td>\n",
              "      <td>False</td>\n",
              "      <td>Dashcam captures truck's near miss with child ...</td>\n",
              "    </tr>\n",
              "  </tbody>\n",
              "</table>\n",
              "</div>\n",
              "      <button class=\"colab-df-convert\" onclick=\"convertToInteractive('df-b091ae93-49e5-41f1-b9a3-73148b406ce8')\"\n",
              "              title=\"Convert this dataframe to an interactive table.\"\n",
              "              style=\"display:none;\">\n",
              "        \n",
              "  <svg xmlns=\"http://www.w3.org/2000/svg\" height=\"24px\"viewBox=\"0 0 24 24\"\n",
              "       width=\"24px\">\n",
              "    <path d=\"M0 0h24v24H0V0z\" fill=\"none\"/>\n",
              "    <path d=\"M18.56 5.44l.94 2.06.94-2.06 2.06-.94-2.06-.94-.94-2.06-.94 2.06-2.06.94zm-11 1L8.5 8.5l.94-2.06 2.06-.94-2.06-.94L8.5 2.5l-.94 2.06-2.06.94zm10 10l.94 2.06.94-2.06 2.06-.94-2.06-.94-.94-2.06-.94 2.06-2.06.94z\"/><path d=\"M17.41 7.96l-1.37-1.37c-.4-.4-.92-.59-1.43-.59-.52 0-1.04.2-1.43.59L10.3 9.45l-7.72 7.72c-.78.78-.78 2.05 0 2.83L4 21.41c.39.39.9.59 1.41.59.51 0 1.02-.2 1.41-.59l7.78-7.78 2.81-2.81c.8-.78.8-2.07 0-2.86zM5.41 20L4 18.59l7.72-7.72 1.47 1.35L5.41 20z\"/>\n",
              "  </svg>\n",
              "      </button>\n",
              "      \n",
              "  <style>\n",
              "    .colab-df-container {\n",
              "      display:flex;\n",
              "      flex-wrap:wrap;\n",
              "      gap: 12px;\n",
              "    }\n",
              "\n",
              "    .colab-df-convert {\n",
              "      background-color: #E8F0FE;\n",
              "      border: none;\n",
              "      border-radius: 50%;\n",
              "      cursor: pointer;\n",
              "      display: none;\n",
              "      fill: #1967D2;\n",
              "      height: 32px;\n",
              "      padding: 0 0 0 0;\n",
              "      width: 32px;\n",
              "    }\n",
              "\n",
              "    .colab-df-convert:hover {\n",
              "      background-color: #E2EBFA;\n",
              "      box-shadow: 0px 1px 2px rgba(60, 64, 67, 0.3), 0px 1px 3px 1px rgba(60, 64, 67, 0.15);\n",
              "      fill: #174EA6;\n",
              "    }\n",
              "\n",
              "    [theme=dark] .colab-df-convert {\n",
              "      background-color: #3B4455;\n",
              "      fill: #D2E3FC;\n",
              "    }\n",
              "\n",
              "    [theme=dark] .colab-df-convert:hover {\n",
              "      background-color: #434B5C;\n",
              "      box-shadow: 0px 1px 3px 1px rgba(0, 0, 0, 0.15);\n",
              "      filter: drop-shadow(0px 1px 2px rgba(0, 0, 0, 0.3));\n",
              "      fill: #FFFFFF;\n",
              "    }\n",
              "  </style>\n",
              "\n",
              "      <script>\n",
              "        const buttonEl =\n",
              "          document.querySelector('#df-b091ae93-49e5-41f1-b9a3-73148b406ce8 button.colab-df-convert');\n",
              "        buttonEl.style.display =\n",
              "          google.colab.kernel.accessAllowed ? 'block' : 'none';\n",
              "\n",
              "        async function convertToInteractive(key) {\n",
              "          const element = document.querySelector('#df-b091ae93-49e5-41f1-b9a3-73148b406ce8');\n",
              "          const dataTable =\n",
              "            await google.colab.kernel.invokeFunction('convertToInteractive',\n",
              "                                                     [key], {});\n",
              "          if (!dataTable) return;\n",
              "\n",
              "          const docLinkHtml = 'Like what you see? Visit the ' +\n",
              "            '<a target=\"_blank\" href=https://colab.research.google.com/notebooks/data_table.ipynb>data table notebook</a>'\n",
              "            + ' to learn more about interactive tables.';\n",
              "          element.innerHTML = '';\n",
              "          dataTable['output_type'] = 'display_data';\n",
              "          await google.colab.output.renderOutput(dataTable, element);\n",
              "          const docLink = document.createElement('div');\n",
              "          docLink.innerHTML = docLinkHtml;\n",
              "          element.appendChild(docLink);\n",
              "        }\n",
              "      </script>\n",
              "    </div>\n",
              "  </div>\n",
              "  "
            ]
          },
          "metadata": {},
          "execution_count": 42
        }
      ]
    },
    {
      "cell_type": "code",
      "source": [
        "gb_video_df.shape"
      ],
      "metadata": {
        "colab": {
          "base_uri": "https://localhost:8080/"
        },
        "id": "jqsPcp3mmCvg",
        "outputId": "14b0cb4e-9b13-43f9-c150-7aae90be1af9"
      },
      "execution_count": 43,
      "outputs": [
        {
          "output_type": "execute_result",
          "data": {
            "text/plain": [
              "(38916, 16)"
            ]
          },
          "metadata": {},
          "execution_count": 43
        }
      ]
    },
    {
      "cell_type": "code",
      "source": [
        "gb_video_df.describe()"
      ],
      "metadata": {
        "colab": {
          "base_uri": "https://localhost:8080/",
          "height": 300
        },
        "id": "xHiWHdwrnvmC",
        "outputId": "280219df-cbba-40ea-f9fc-0522eb3b5de8"
      },
      "execution_count": 44,
      "outputs": [
        {
          "output_type": "execute_result",
          "data": {
            "text/plain": [
              "        category_id         views         likes      dislikes  comment_count\n",
              "count  38916.000000  3.891600e+04  3.891600e+04  3.891600e+04   3.891600e+04\n",
              "mean      16.827937  5.911944e+06  1.345196e+05  7.612560e+03   1.308835e+04\n",
              "std        7.752728  1.900121e+07  3.499893e+05  5.095683e+04   5.066740e+04\n",
              "min        1.000000  8.510000e+02  0.000000e+00  0.000000e+00   0.000000e+00\n",
              "25%       10.000000  2.515272e+05  5.897000e+03  2.000000e+02   6.790000e+02\n",
              "50%       20.000000  9.818890e+05  2.518250e+04  8.210000e+02   2.478000e+03\n",
              "75%       24.000000  3.683628e+06  1.140892e+05  3.357500e+03   9.241500e+03\n",
              "max       43.000000  4.245389e+08  5.613827e+06  1.944971e+06   1.626501e+06"
            ],
            "text/html": [
              "\n",
              "  <div id=\"df-2ccda5ae-fa5a-4997-9523-c8c8ddf8d0a8\">\n",
              "    <div class=\"colab-df-container\">\n",
              "      <div>\n",
              "<style scoped>\n",
              "    .dataframe tbody tr th:only-of-type {\n",
              "        vertical-align: middle;\n",
              "    }\n",
              "\n",
              "    .dataframe tbody tr th {\n",
              "        vertical-align: top;\n",
              "    }\n",
              "\n",
              "    .dataframe thead th {\n",
              "        text-align: right;\n",
              "    }\n",
              "</style>\n",
              "<table border=\"1\" class=\"dataframe\">\n",
              "  <thead>\n",
              "    <tr style=\"text-align: right;\">\n",
              "      <th></th>\n",
              "      <th>category_id</th>\n",
              "      <th>views</th>\n",
              "      <th>likes</th>\n",
              "      <th>dislikes</th>\n",
              "      <th>comment_count</th>\n",
              "    </tr>\n",
              "  </thead>\n",
              "  <tbody>\n",
              "    <tr>\n",
              "      <th>count</th>\n",
              "      <td>38916.000000</td>\n",
              "      <td>3.891600e+04</td>\n",
              "      <td>3.891600e+04</td>\n",
              "      <td>3.891600e+04</td>\n",
              "      <td>3.891600e+04</td>\n",
              "    </tr>\n",
              "    <tr>\n",
              "      <th>mean</th>\n",
              "      <td>16.827937</td>\n",
              "      <td>5.911944e+06</td>\n",
              "      <td>1.345196e+05</td>\n",
              "      <td>7.612560e+03</td>\n",
              "      <td>1.308835e+04</td>\n",
              "    </tr>\n",
              "    <tr>\n",
              "      <th>std</th>\n",
              "      <td>7.752728</td>\n",
              "      <td>1.900121e+07</td>\n",
              "      <td>3.499893e+05</td>\n",
              "      <td>5.095683e+04</td>\n",
              "      <td>5.066740e+04</td>\n",
              "    </tr>\n",
              "    <tr>\n",
              "      <th>min</th>\n",
              "      <td>1.000000</td>\n",
              "      <td>8.510000e+02</td>\n",
              "      <td>0.000000e+00</td>\n",
              "      <td>0.000000e+00</td>\n",
              "      <td>0.000000e+00</td>\n",
              "    </tr>\n",
              "    <tr>\n",
              "      <th>25%</th>\n",
              "      <td>10.000000</td>\n",
              "      <td>2.515272e+05</td>\n",
              "      <td>5.897000e+03</td>\n",
              "      <td>2.000000e+02</td>\n",
              "      <td>6.790000e+02</td>\n",
              "    </tr>\n",
              "    <tr>\n",
              "      <th>50%</th>\n",
              "      <td>20.000000</td>\n",
              "      <td>9.818890e+05</td>\n",
              "      <td>2.518250e+04</td>\n",
              "      <td>8.210000e+02</td>\n",
              "      <td>2.478000e+03</td>\n",
              "    </tr>\n",
              "    <tr>\n",
              "      <th>75%</th>\n",
              "      <td>24.000000</td>\n",
              "      <td>3.683628e+06</td>\n",
              "      <td>1.140892e+05</td>\n",
              "      <td>3.357500e+03</td>\n",
              "      <td>9.241500e+03</td>\n",
              "    </tr>\n",
              "    <tr>\n",
              "      <th>max</th>\n",
              "      <td>43.000000</td>\n",
              "      <td>4.245389e+08</td>\n",
              "      <td>5.613827e+06</td>\n",
              "      <td>1.944971e+06</td>\n",
              "      <td>1.626501e+06</td>\n",
              "    </tr>\n",
              "  </tbody>\n",
              "</table>\n",
              "</div>\n",
              "      <button class=\"colab-df-convert\" onclick=\"convertToInteractive('df-2ccda5ae-fa5a-4997-9523-c8c8ddf8d0a8')\"\n",
              "              title=\"Convert this dataframe to an interactive table.\"\n",
              "              style=\"display:none;\">\n",
              "        \n",
              "  <svg xmlns=\"http://www.w3.org/2000/svg\" height=\"24px\"viewBox=\"0 0 24 24\"\n",
              "       width=\"24px\">\n",
              "    <path d=\"M0 0h24v24H0V0z\" fill=\"none\"/>\n",
              "    <path d=\"M18.56 5.44l.94 2.06.94-2.06 2.06-.94-2.06-.94-.94-2.06-.94 2.06-2.06.94zm-11 1L8.5 8.5l.94-2.06 2.06-.94-2.06-.94L8.5 2.5l-.94 2.06-2.06.94zm10 10l.94 2.06.94-2.06 2.06-.94-2.06-.94-.94-2.06-.94 2.06-2.06.94z\"/><path d=\"M17.41 7.96l-1.37-1.37c-.4-.4-.92-.59-1.43-.59-.52 0-1.04.2-1.43.59L10.3 9.45l-7.72 7.72c-.78.78-.78 2.05 0 2.83L4 21.41c.39.39.9.59 1.41.59.51 0 1.02-.2 1.41-.59l7.78-7.78 2.81-2.81c.8-.78.8-2.07 0-2.86zM5.41 20L4 18.59l7.72-7.72 1.47 1.35L5.41 20z\"/>\n",
              "  </svg>\n",
              "      </button>\n",
              "      \n",
              "  <style>\n",
              "    .colab-df-container {\n",
              "      display:flex;\n",
              "      flex-wrap:wrap;\n",
              "      gap: 12px;\n",
              "    }\n",
              "\n",
              "    .colab-df-convert {\n",
              "      background-color: #E8F0FE;\n",
              "      border: none;\n",
              "      border-radius: 50%;\n",
              "      cursor: pointer;\n",
              "      display: none;\n",
              "      fill: #1967D2;\n",
              "      height: 32px;\n",
              "      padding: 0 0 0 0;\n",
              "      width: 32px;\n",
              "    }\n",
              "\n",
              "    .colab-df-convert:hover {\n",
              "      background-color: #E2EBFA;\n",
              "      box-shadow: 0px 1px 2px rgba(60, 64, 67, 0.3), 0px 1px 3px 1px rgba(60, 64, 67, 0.15);\n",
              "      fill: #174EA6;\n",
              "    }\n",
              "\n",
              "    [theme=dark] .colab-df-convert {\n",
              "      background-color: #3B4455;\n",
              "      fill: #D2E3FC;\n",
              "    }\n",
              "\n",
              "    [theme=dark] .colab-df-convert:hover {\n",
              "      background-color: #434B5C;\n",
              "      box-shadow: 0px 1px 3px 1px rgba(0, 0, 0, 0.15);\n",
              "      filter: drop-shadow(0px 1px 2px rgba(0, 0, 0, 0.3));\n",
              "      fill: #FFFFFF;\n",
              "    }\n",
              "  </style>\n",
              "\n",
              "      <script>\n",
              "        const buttonEl =\n",
              "          document.querySelector('#df-2ccda5ae-fa5a-4997-9523-c8c8ddf8d0a8 button.colab-df-convert');\n",
              "        buttonEl.style.display =\n",
              "          google.colab.kernel.accessAllowed ? 'block' : 'none';\n",
              "\n",
              "        async function convertToInteractive(key) {\n",
              "          const element = document.querySelector('#df-2ccda5ae-fa5a-4997-9523-c8c8ddf8d0a8');\n",
              "          const dataTable =\n",
              "            await google.colab.kernel.invokeFunction('convertToInteractive',\n",
              "                                                     [key], {});\n",
              "          if (!dataTable) return;\n",
              "\n",
              "          const docLinkHtml = 'Like what you see? Visit the ' +\n",
              "            '<a target=\"_blank\" href=https://colab.research.google.com/notebooks/data_table.ipynb>data table notebook</a>'\n",
              "            + ' to learn more about interactive tables.';\n",
              "          element.innerHTML = '';\n",
              "          dataTable['output_type'] = 'display_data';\n",
              "          await google.colab.output.renderOutput(dataTable, element);\n",
              "          const docLink = document.createElement('div');\n",
              "          docLink.innerHTML = docLinkHtml;\n",
              "          element.appendChild(docLink);\n",
              "        }\n",
              "      </script>\n",
              "    </div>\n",
              "  </div>\n",
              "  "
            ]
          },
          "metadata": {},
          "execution_count": 44
        }
      ]
    },
    {
      "cell_type": "code",
      "source": [
        "gb_video_df.info()"
      ],
      "metadata": {
        "colab": {
          "base_uri": "https://localhost:8080/"
        },
        "id": "a5AnEMncnyva",
        "outputId": "fab4b11b-d675-4f49-e60a-4620359c23ef"
      },
      "execution_count": 45,
      "outputs": [
        {
          "output_type": "stream",
          "name": "stdout",
          "text": [
            "<class 'pandas.core.frame.DataFrame'>\n",
            "RangeIndex: 38916 entries, 0 to 38915\n",
            "Data columns (total 16 columns):\n",
            " #   Column                  Non-Null Count  Dtype \n",
            "---  ------                  --------------  ----- \n",
            " 0   video_id                38916 non-null  object\n",
            " 1   trending_date           38916 non-null  object\n",
            " 2   title                   38916 non-null  object\n",
            " 3   channel_title           38916 non-null  object\n",
            " 4   category_id             38916 non-null  int64 \n",
            " 5   publish_time            38916 non-null  object\n",
            " 6   tags                    38916 non-null  object\n",
            " 7   views                   38916 non-null  int64 \n",
            " 8   likes                   38916 non-null  int64 \n",
            " 9   dislikes                38916 non-null  int64 \n",
            " 10  comment_count           38916 non-null  int64 \n",
            " 11  thumbnail_link          38916 non-null  object\n",
            " 12  comments_disabled       38916 non-null  bool  \n",
            " 13  ratings_disabled        38916 non-null  bool  \n",
            " 14  video_error_or_removed  38916 non-null  bool  \n",
            " 15  description             38304 non-null  object\n",
            "dtypes: bool(3), int64(5), object(8)\n",
            "memory usage: 4.0+ MB\n"
          ]
        }
      ]
    },
    {
      "cell_type": "markdown",
      "metadata": {
        "id": "rkNi2LHT0TGj"
      },
      "source": [
        "## How many rows are there in the GBvideos.csv after removing duplications?"
      ]
    },
    {
      "cell_type": "code",
      "execution_count": 46,
      "metadata": {
        "id": "PFzYyW7V0TGj"
      },
      "outputs": [],
      "source": [
        "gb_video_df.drop_duplicates(inplace=True)"
      ]
    },
    {
      "cell_type": "code",
      "source": [
        "gb_video_df.shape"
      ],
      "metadata": {
        "colab": {
          "base_uri": "https://localhost:8080/"
        },
        "id": "D-BmYvVmpjfO",
        "outputId": "831f5169-81e6-45ec-b886-7d6796650e59"
      },
      "execution_count": 47,
      "outputs": [
        {
          "output_type": "execute_result",
          "data": {
            "text/plain": [
              "(38745, 16)"
            ]
          },
          "metadata": {},
          "execution_count": 47
        }
      ]
    },
    {
      "cell_type": "markdown",
      "metadata": {
        "id": "mSc2U7HJ0TGk"
      },
      "source": [
        "## How many VDO that have \"dislikes\" more than \"likes\"?  Make sure that you count only unique title!"
      ]
    },
    {
      "cell_type": "code",
      "execution_count": 48,
      "metadata": {
        "id": "Q0NF1dI40TGk",
        "colab": {
          "base_uri": "https://localhost:8080/"
        },
        "outputId": "4105b474-fc66-4993-cd71-6e3c04df69dc"
      },
      "outputs": [
        {
          "output_type": "execute_result",
          "data": {
            "text/plain": [
              "(56, 16)"
            ]
          },
          "metadata": {},
          "execution_count": 48
        }
      ],
      "source": [
        "gb_video_df[gb_video_df['dislikes']>gb_video_df['likes']].drop_duplicates(subset=\"title\").shape"
      ]
    },
    {
      "cell_type": "markdown",
      "metadata": {
        "id": "oNxh-5CL0TGk"
      },
      "source": [
        "## How many VDO that are trending on 22 Jan 2018 with comments more than 10,000 comments?"
      ]
    },
    {
      "cell_type": "code",
      "execution_count": 49,
      "metadata": {
        "id": "07-y5sNw0TGl"
      },
      "outputs": [],
      "source": [
        "gb_video_df['trending_dt'] = pd.to_datetime(gb_video_df.trending_date, format='%y.%d.%m', errors='ignore', utc=True)"
      ]
    },
    {
      "cell_type": "code",
      "source": [
        "time_define = pd.Timestamp('2018-01-22T00',tz='UTC')\n",
        "time_define"
      ],
      "metadata": {
        "colab": {
          "base_uri": "https://localhost:8080/"
        },
        "id": "u4vNyHj_wPCo",
        "outputId": "41aa813f-9cd6-48df-d256-fa8fbec8bb2e"
      },
      "execution_count": 50,
      "outputs": [
        {
          "output_type": "execute_result",
          "data": {
            "text/plain": [
              "Timestamp('2018-01-22 00:00:00+0000', tz='UTC')"
            ]
          },
          "metadata": {},
          "execution_count": 50
        }
      ]
    },
    {
      "cell_type": "code",
      "source": [
        "gb_video_df[(gb_video_df['trending_dt']==time_define) & (gb_video_df['comment_count']>10000)].shape"
      ],
      "metadata": {
        "colab": {
          "base_uri": "https://localhost:8080/"
        },
        "id": "LUBh8p_Uwb9v",
        "outputId": "f2370ebc-dd50-4076-e880-afc4f835359c"
      },
      "execution_count": 51,
      "outputs": [
        {
          "output_type": "execute_result",
          "data": {
            "text/plain": [
              "(28, 17)"
            ]
          },
          "metadata": {},
          "execution_count": 51
        }
      ]
    },
    {
      "cell_type": "markdown",
      "metadata": {
        "id": "jnBQwfD70TGl"
      },
      "source": [
        "## Which date that has the minimum average number of comments per VDO?"
      ]
    },
    {
      "cell_type": "code",
      "execution_count": 52,
      "metadata": {
        "id": "KIDZyavc0TGl",
        "colab": {
          "base_uri": "https://localhost:8080/",
          "height": 455
        },
        "outputId": "97598b1c-294b-4fa9-cc96-b4bbd591dba6"
      },
      "outputs": [
        {
          "output_type": "execute_result",
          "data": {
            "text/plain": [
              "                           category_id         views          likes  \\\n",
              "trending_dt                                                           \n",
              "2017-11-15 00:00:00+00:00    18.824121  1.847452e+06   60183.557789   \n",
              "2017-11-14 00:00:00+00:00    18.595000  1.769282e+06   59599.675000   \n",
              "2017-11-16 00:00:00+00:00    18.944724  1.962848e+06   60722.452261   \n",
              "2017-11-17 00:00:00+00:00    19.425000  1.692729e+06   58880.840000   \n",
              "2017-11-21 00:00:00+00:00    19.355000  1.910107e+06   61628.610000   \n",
              "...                                ...           ...            ...   \n",
              "2018-05-21 00:00:00+00:00    16.116883  1.113275e+07  241115.168831   \n",
              "2018-05-25 00:00:00+00:00    15.869565  1.210676e+07  246016.434783   \n",
              "2018-05-22 00:00:00+00:00    16.039474  1.150369e+07  244041.157895   \n",
              "2018-05-24 00:00:00+00:00    15.916129  1.202722e+07  248400.858065   \n",
              "2018-05-23 00:00:00+00:00    15.967320  1.184908e+07  248206.797386   \n",
              "\n",
              "                               dislikes  comment_count  comments_disabled  \\\n",
              "trending_dt                                                                 \n",
              "2017-11-15 00:00:00+00:00   2008.221106    4738.673367           0.025126   \n",
              "2017-11-14 00:00:00+00:00   2031.720000    4781.875000           0.025000   \n",
              "2017-11-16 00:00:00+00:00   2100.482412    4830.542714           0.025126   \n",
              "2017-11-17 00:00:00+00:00   1864.440000    5089.375000           0.020000   \n",
              "2017-11-21 00:00:00+00:00   1978.365000    5455.350000           0.010000   \n",
              "...                                 ...            ...                ...   \n",
              "2018-05-21 00:00:00+00:00  12238.467532   23940.831169           0.032468   \n",
              "2018-05-25 00:00:00+00:00  12649.478261   24776.149068           0.018634   \n",
              "2018-05-22 00:00:00+00:00  12464.315789   24825.881579           0.026316   \n",
              "2018-05-24 00:00:00+00:00  12676.877419   25130.870968           0.025806   \n",
              "2018-05-23 00:00:00+00:00  12655.392157   25209.261438           0.026144   \n",
              "\n",
              "                           ratings_disabled  video_error_or_removed  \n",
              "trending_dt                                                          \n",
              "2017-11-15 00:00:00+00:00          0.005025                0.000000  \n",
              "2017-11-14 00:00:00+00:00          0.005000                0.000000  \n",
              "2017-11-16 00:00:00+00:00          0.005025                0.000000  \n",
              "2017-11-17 00:00:00+00:00          0.005000                0.000000  \n",
              "2017-11-21 00:00:00+00:00          0.010000                0.000000  \n",
              "...                                     ...                     ...  \n",
              "2018-05-21 00:00:00+00:00          0.006494                0.012987  \n",
              "2018-05-25 00:00:00+00:00          0.006211                0.012422  \n",
              "2018-05-22 00:00:00+00:00          0.006579                0.013158  \n",
              "2018-05-24 00:00:00+00:00          0.006452                0.012903  \n",
              "2018-05-23 00:00:00+00:00          0.006536                0.013072  \n",
              "\n",
              "[205 rows x 8 columns]"
            ],
            "text/html": [
              "\n",
              "  <div id=\"df-a66daad5-cc8c-4d59-b0b5-888f4a70d8a7\">\n",
              "    <div class=\"colab-df-container\">\n",
              "      <div>\n",
              "<style scoped>\n",
              "    .dataframe tbody tr th:only-of-type {\n",
              "        vertical-align: middle;\n",
              "    }\n",
              "\n",
              "    .dataframe tbody tr th {\n",
              "        vertical-align: top;\n",
              "    }\n",
              "\n",
              "    .dataframe thead th {\n",
              "        text-align: right;\n",
              "    }\n",
              "</style>\n",
              "<table border=\"1\" class=\"dataframe\">\n",
              "  <thead>\n",
              "    <tr style=\"text-align: right;\">\n",
              "      <th></th>\n",
              "      <th>category_id</th>\n",
              "      <th>views</th>\n",
              "      <th>likes</th>\n",
              "      <th>dislikes</th>\n",
              "      <th>comment_count</th>\n",
              "      <th>comments_disabled</th>\n",
              "      <th>ratings_disabled</th>\n",
              "      <th>video_error_or_removed</th>\n",
              "    </tr>\n",
              "    <tr>\n",
              "      <th>trending_dt</th>\n",
              "      <th></th>\n",
              "      <th></th>\n",
              "      <th></th>\n",
              "      <th></th>\n",
              "      <th></th>\n",
              "      <th></th>\n",
              "      <th></th>\n",
              "      <th></th>\n",
              "    </tr>\n",
              "  </thead>\n",
              "  <tbody>\n",
              "    <tr>\n",
              "      <th>2017-11-15 00:00:00+00:00</th>\n",
              "      <td>18.824121</td>\n",
              "      <td>1.847452e+06</td>\n",
              "      <td>60183.557789</td>\n",
              "      <td>2008.221106</td>\n",
              "      <td>4738.673367</td>\n",
              "      <td>0.025126</td>\n",
              "      <td>0.005025</td>\n",
              "      <td>0.000000</td>\n",
              "    </tr>\n",
              "    <tr>\n",
              "      <th>2017-11-14 00:00:00+00:00</th>\n",
              "      <td>18.595000</td>\n",
              "      <td>1.769282e+06</td>\n",
              "      <td>59599.675000</td>\n",
              "      <td>2031.720000</td>\n",
              "      <td>4781.875000</td>\n",
              "      <td>0.025000</td>\n",
              "      <td>0.005000</td>\n",
              "      <td>0.000000</td>\n",
              "    </tr>\n",
              "    <tr>\n",
              "      <th>2017-11-16 00:00:00+00:00</th>\n",
              "      <td>18.944724</td>\n",
              "      <td>1.962848e+06</td>\n",
              "      <td>60722.452261</td>\n",
              "      <td>2100.482412</td>\n",
              "      <td>4830.542714</td>\n",
              "      <td>0.025126</td>\n",
              "      <td>0.005025</td>\n",
              "      <td>0.000000</td>\n",
              "    </tr>\n",
              "    <tr>\n",
              "      <th>2017-11-17 00:00:00+00:00</th>\n",
              "      <td>19.425000</td>\n",
              "      <td>1.692729e+06</td>\n",
              "      <td>58880.840000</td>\n",
              "      <td>1864.440000</td>\n",
              "      <td>5089.375000</td>\n",
              "      <td>0.020000</td>\n",
              "      <td>0.005000</td>\n",
              "      <td>0.000000</td>\n",
              "    </tr>\n",
              "    <tr>\n",
              "      <th>2017-11-21 00:00:00+00:00</th>\n",
              "      <td>19.355000</td>\n",
              "      <td>1.910107e+06</td>\n",
              "      <td>61628.610000</td>\n",
              "      <td>1978.365000</td>\n",
              "      <td>5455.350000</td>\n",
              "      <td>0.010000</td>\n",
              "      <td>0.010000</td>\n",
              "      <td>0.000000</td>\n",
              "    </tr>\n",
              "    <tr>\n",
              "      <th>...</th>\n",
              "      <td>...</td>\n",
              "      <td>...</td>\n",
              "      <td>...</td>\n",
              "      <td>...</td>\n",
              "      <td>...</td>\n",
              "      <td>...</td>\n",
              "      <td>...</td>\n",
              "      <td>...</td>\n",
              "    </tr>\n",
              "    <tr>\n",
              "      <th>2018-05-21 00:00:00+00:00</th>\n",
              "      <td>16.116883</td>\n",
              "      <td>1.113275e+07</td>\n",
              "      <td>241115.168831</td>\n",
              "      <td>12238.467532</td>\n",
              "      <td>23940.831169</td>\n",
              "      <td>0.032468</td>\n",
              "      <td>0.006494</td>\n",
              "      <td>0.012987</td>\n",
              "    </tr>\n",
              "    <tr>\n",
              "      <th>2018-05-25 00:00:00+00:00</th>\n",
              "      <td>15.869565</td>\n",
              "      <td>1.210676e+07</td>\n",
              "      <td>246016.434783</td>\n",
              "      <td>12649.478261</td>\n",
              "      <td>24776.149068</td>\n",
              "      <td>0.018634</td>\n",
              "      <td>0.006211</td>\n",
              "      <td>0.012422</td>\n",
              "    </tr>\n",
              "    <tr>\n",
              "      <th>2018-05-22 00:00:00+00:00</th>\n",
              "      <td>16.039474</td>\n",
              "      <td>1.150369e+07</td>\n",
              "      <td>244041.157895</td>\n",
              "      <td>12464.315789</td>\n",
              "      <td>24825.881579</td>\n",
              "      <td>0.026316</td>\n",
              "      <td>0.006579</td>\n",
              "      <td>0.013158</td>\n",
              "    </tr>\n",
              "    <tr>\n",
              "      <th>2018-05-24 00:00:00+00:00</th>\n",
              "      <td>15.916129</td>\n",
              "      <td>1.202722e+07</td>\n",
              "      <td>248400.858065</td>\n",
              "      <td>12676.877419</td>\n",
              "      <td>25130.870968</td>\n",
              "      <td>0.025806</td>\n",
              "      <td>0.006452</td>\n",
              "      <td>0.012903</td>\n",
              "    </tr>\n",
              "    <tr>\n",
              "      <th>2018-05-23 00:00:00+00:00</th>\n",
              "      <td>15.967320</td>\n",
              "      <td>1.184908e+07</td>\n",
              "      <td>248206.797386</td>\n",
              "      <td>12655.392157</td>\n",
              "      <td>25209.261438</td>\n",
              "      <td>0.026144</td>\n",
              "      <td>0.006536</td>\n",
              "      <td>0.013072</td>\n",
              "    </tr>\n",
              "  </tbody>\n",
              "</table>\n",
              "<p>205 rows × 8 columns</p>\n",
              "</div>\n",
              "      <button class=\"colab-df-convert\" onclick=\"convertToInteractive('df-a66daad5-cc8c-4d59-b0b5-888f4a70d8a7')\"\n",
              "              title=\"Convert this dataframe to an interactive table.\"\n",
              "              style=\"display:none;\">\n",
              "        \n",
              "  <svg xmlns=\"http://www.w3.org/2000/svg\" height=\"24px\"viewBox=\"0 0 24 24\"\n",
              "       width=\"24px\">\n",
              "    <path d=\"M0 0h24v24H0V0z\" fill=\"none\"/>\n",
              "    <path d=\"M18.56 5.44l.94 2.06.94-2.06 2.06-.94-2.06-.94-.94-2.06-.94 2.06-2.06.94zm-11 1L8.5 8.5l.94-2.06 2.06-.94-2.06-.94L8.5 2.5l-.94 2.06-2.06.94zm10 10l.94 2.06.94-2.06 2.06-.94-2.06-.94-.94-2.06-.94 2.06-2.06.94z\"/><path d=\"M17.41 7.96l-1.37-1.37c-.4-.4-.92-.59-1.43-.59-.52 0-1.04.2-1.43.59L10.3 9.45l-7.72 7.72c-.78.78-.78 2.05 0 2.83L4 21.41c.39.39.9.59 1.41.59.51 0 1.02-.2 1.41-.59l7.78-7.78 2.81-2.81c.8-.78.8-2.07 0-2.86zM5.41 20L4 18.59l7.72-7.72 1.47 1.35L5.41 20z\"/>\n",
              "  </svg>\n",
              "      </button>\n",
              "      \n",
              "  <style>\n",
              "    .colab-df-container {\n",
              "      display:flex;\n",
              "      flex-wrap:wrap;\n",
              "      gap: 12px;\n",
              "    }\n",
              "\n",
              "    .colab-df-convert {\n",
              "      background-color: #E8F0FE;\n",
              "      border: none;\n",
              "      border-radius: 50%;\n",
              "      cursor: pointer;\n",
              "      display: none;\n",
              "      fill: #1967D2;\n",
              "      height: 32px;\n",
              "      padding: 0 0 0 0;\n",
              "      width: 32px;\n",
              "    }\n",
              "\n",
              "    .colab-df-convert:hover {\n",
              "      background-color: #E2EBFA;\n",
              "      box-shadow: 0px 1px 2px rgba(60, 64, 67, 0.3), 0px 1px 3px 1px rgba(60, 64, 67, 0.15);\n",
              "      fill: #174EA6;\n",
              "    }\n",
              "\n",
              "    [theme=dark] .colab-df-convert {\n",
              "      background-color: #3B4455;\n",
              "      fill: #D2E3FC;\n",
              "    }\n",
              "\n",
              "    [theme=dark] .colab-df-convert:hover {\n",
              "      background-color: #434B5C;\n",
              "      box-shadow: 0px 1px 3px 1px rgba(0, 0, 0, 0.15);\n",
              "      filter: drop-shadow(0px 1px 2px rgba(0, 0, 0, 0.3));\n",
              "      fill: #FFFFFF;\n",
              "    }\n",
              "  </style>\n",
              "\n",
              "      <script>\n",
              "        const buttonEl =\n",
              "          document.querySelector('#df-a66daad5-cc8c-4d59-b0b5-888f4a70d8a7 button.colab-df-convert');\n",
              "        buttonEl.style.display =\n",
              "          google.colab.kernel.accessAllowed ? 'block' : 'none';\n",
              "\n",
              "        async function convertToInteractive(key) {\n",
              "          const element = document.querySelector('#df-a66daad5-cc8c-4d59-b0b5-888f4a70d8a7');\n",
              "          const dataTable =\n",
              "            await google.colab.kernel.invokeFunction('convertToInteractive',\n",
              "                                                     [key], {});\n",
              "          if (!dataTable) return;\n",
              "\n",
              "          const docLinkHtml = 'Like what you see? Visit the ' +\n",
              "            '<a target=\"_blank\" href=https://colab.research.google.com/notebooks/data_table.ipynb>data table notebook</a>'\n",
              "            + ' to learn more about interactive tables.';\n",
              "          element.innerHTML = '';\n",
              "          dataTable['output_type'] = 'display_data';\n",
              "          await google.colab.output.renderOutput(dataTable, element);\n",
              "          const docLink = document.createElement('div');\n",
              "          docLink.innerHTML = docLinkHtml;\n",
              "          element.appendChild(docLink);\n",
              "        }\n",
              "      </script>\n",
              "    </div>\n",
              "  </div>\n",
              "  "
            ]
          },
          "metadata": {},
          "execution_count": 52
        }
      ],
      "source": [
        "gb_video_df.groupby(['trending_dt']).mean().sort_values(by=['comment_count'],ascending=1)\n"
      ]
    },
    {
      "cell_type": "markdown",
      "metadata": {
        "id": "wL7iTiic0TGl"
      },
      "source": [
        "## Compare \"Sports\" and \"Comady\", how many days that there are more total daily views of VDO in \"Sports\" category than in \"Comady\" category?"
      ]
    },
    {
      "cell_type": "code",
      "execution_count": 53,
      "metadata": {
        "id": "UIzvYqdA0TGm"
      },
      "outputs": [],
      "source": [
        "import json\n",
        "with open('data/GB_category_id.json') as fd:\n",
        "    cat = json.load(fd)"
      ]
    },
    {
      "cell_type": "code",
      "source": [
        "cat['items'][0]['snippet']['title']"
      ],
      "metadata": {
        "colab": {
          "base_uri": "https://localhost:8080/",
          "height": 35
        },
        "id": "G2ChqfmtAJI1",
        "outputId": "919acdb3-e0b7-406f-bcfe-a863bbaf9bc8"
      },
      "execution_count": 54,
      "outputs": [
        {
          "output_type": "execute_result",
          "data": {
            "text/plain": [
              "'Film & Animation'"
            ],
            "application/vnd.google.colaboratory.intrinsic+json": {
              "type": "string"
            }
          },
          "metadata": {},
          "execution_count": 54
        }
      ]
    },
    {
      "cell_type": "code",
      "source": [
        "cat['items']"
      ],
      "metadata": {
        "colab": {
          "base_uri": "https://localhost:8080/"
        },
        "id": "StlHRZQvEPJh",
        "outputId": "1392d3c0-bc1e-48ab-f8cd-d79e0912582f"
      },
      "execution_count": 55,
      "outputs": [
        {
          "output_type": "execute_result",
          "data": {
            "text/plain": [
              "[{'kind': 'youtube#videoCategory',\n",
              "  'etag': '\"m2yskBQFythfE4irbTIeOgYYfBU/Xy1mB4_yLrHy_BmKmPBggty2mZQ\"',\n",
              "  'id': '1',\n",
              "  'snippet': {'channelId': 'UCBR8-60-B28hp2BmDPdntcQ',\n",
              "   'title': 'Film & Animation',\n",
              "   'assignable': True}},\n",
              " {'kind': 'youtube#videoCategory',\n",
              "  'etag': '\"m2yskBQFythfE4irbTIeOgYYfBU/UZ1oLIIz2dxIhO45ZTFR3a3NyTA\"',\n",
              "  'id': '2',\n",
              "  'snippet': {'channelId': 'UCBR8-60-B28hp2BmDPdntcQ',\n",
              "   'title': 'Autos & Vehicles',\n",
              "   'assignable': True}},\n",
              " {'kind': 'youtube#videoCategory',\n",
              "  'etag': '\"m2yskBQFythfE4irbTIeOgYYfBU/nqRIq97-xe5XRZTxbknKFVe5Lmg\"',\n",
              "  'id': '10',\n",
              "  'snippet': {'channelId': 'UCBR8-60-B28hp2BmDPdntcQ',\n",
              "   'title': 'Music',\n",
              "   'assignable': True}},\n",
              " {'kind': 'youtube#videoCategory',\n",
              "  'etag': '\"m2yskBQFythfE4irbTIeOgYYfBU/HwXKamM1Q20q9BN-oBJavSGkfDI\"',\n",
              "  'id': '15',\n",
              "  'snippet': {'channelId': 'UCBR8-60-B28hp2BmDPdntcQ',\n",
              "   'title': 'Pets & Animals',\n",
              "   'assignable': True}},\n",
              " {'kind': 'youtube#videoCategory',\n",
              "  'etag': '\"m2yskBQFythfE4irbTIeOgYYfBU/9GQMSRjrZdHeb1OEM1XVQ9zbGec\"',\n",
              "  'id': '17',\n",
              "  'snippet': {'channelId': 'UCBR8-60-B28hp2BmDPdntcQ',\n",
              "   'title': 'Sports',\n",
              "   'assignable': True}},\n",
              " {'kind': 'youtube#videoCategory',\n",
              "  'etag': '\"m2yskBQFythfE4irbTIeOgYYfBU/FJwVpGCVZ1yiJrqZbpqe68Sy_OE\"',\n",
              "  'id': '18',\n",
              "  'snippet': {'channelId': 'UCBR8-60-B28hp2BmDPdntcQ',\n",
              "   'title': 'Short Movies',\n",
              "   'assignable': False}},\n",
              " {'kind': 'youtube#videoCategory',\n",
              "  'etag': '\"m2yskBQFythfE4irbTIeOgYYfBU/M-3iD9dwK7YJCafRf_DkLN8CouA\"',\n",
              "  'id': '19',\n",
              "  'snippet': {'channelId': 'UCBR8-60-B28hp2BmDPdntcQ',\n",
              "   'title': 'Travel & Events',\n",
              "   'assignable': True}},\n",
              " {'kind': 'youtube#videoCategory',\n",
              "  'etag': '\"m2yskBQFythfE4irbTIeOgYYfBU/WmA0qYEfjWsAoyJFSw2zinhn2wM\"',\n",
              "  'id': '20',\n",
              "  'snippet': {'channelId': 'UCBR8-60-B28hp2BmDPdntcQ',\n",
              "   'title': 'Gaming',\n",
              "   'assignable': True}},\n",
              " {'kind': 'youtube#videoCategory',\n",
              "  'etag': '\"m2yskBQFythfE4irbTIeOgYYfBU/EapFaGYG7K0StIXVf8aba249tdM\"',\n",
              "  'id': '21',\n",
              "  'snippet': {'channelId': 'UCBR8-60-B28hp2BmDPdntcQ',\n",
              "   'title': 'Videoblogging',\n",
              "   'assignable': False}},\n",
              " {'kind': 'youtube#videoCategory',\n",
              "  'etag': '\"m2yskBQFythfE4irbTIeOgYYfBU/xId8RX7vRN8rqkbYZbNIytUQDRo\"',\n",
              "  'id': '22',\n",
              "  'snippet': {'channelId': 'UCBR8-60-B28hp2BmDPdntcQ',\n",
              "   'title': 'People & Blogs',\n",
              "   'assignable': True}},\n",
              " {'kind': 'youtube#videoCategory',\n",
              "  'etag': '\"m2yskBQFythfE4irbTIeOgYYfBU/G9LHzQmx44rX2S5yaga_Aqtwz8M\"',\n",
              "  'id': '23',\n",
              "  'snippet': {'channelId': 'UCBR8-60-B28hp2BmDPdntcQ',\n",
              "   'title': 'Comedy',\n",
              "   'assignable': True}},\n",
              " {'kind': 'youtube#videoCategory',\n",
              "  'etag': '\"m2yskBQFythfE4irbTIeOgYYfBU/UVB9oxX2Bvqa_w_y3vXSLVK5E_s\"',\n",
              "  'id': '24',\n",
              "  'snippet': {'channelId': 'UCBR8-60-B28hp2BmDPdntcQ',\n",
              "   'title': 'Entertainment',\n",
              "   'assignable': True}},\n",
              " {'kind': 'youtube#videoCategory',\n",
              "  'etag': '\"m2yskBQFythfE4irbTIeOgYYfBU/QiLK0ZIrFoORdk_g2l_XR_ECjDc\"',\n",
              "  'id': '25',\n",
              "  'snippet': {'channelId': 'UCBR8-60-B28hp2BmDPdntcQ',\n",
              "   'title': 'News & Politics',\n",
              "   'assignable': True}},\n",
              " {'kind': 'youtube#videoCategory',\n",
              "  'etag': '\"m2yskBQFythfE4irbTIeOgYYfBU/r6Ck6Z0_L0rG37VJQR200SGNA_w\"',\n",
              "  'id': '26',\n",
              "  'snippet': {'channelId': 'UCBR8-60-B28hp2BmDPdntcQ',\n",
              "   'title': 'Howto & Style',\n",
              "   'assignable': True}},\n",
              " {'kind': 'youtube#videoCategory',\n",
              "  'etag': '\"m2yskBQFythfE4irbTIeOgYYfBU/EoYkczo9I3RCf96RveKTOgOPkUM\"',\n",
              "  'id': '27',\n",
              "  'snippet': {'channelId': 'UCBR8-60-B28hp2BmDPdntcQ',\n",
              "   'title': 'Education',\n",
              "   'assignable': True}},\n",
              " {'kind': 'youtube#videoCategory',\n",
              "  'etag': '\"m2yskBQFythfE4irbTIeOgYYfBU/w5HjcTD82G_XA3xBctS30zS-JpQ\"',\n",
              "  'id': '28',\n",
              "  'snippet': {'channelId': 'UCBR8-60-B28hp2BmDPdntcQ',\n",
              "   'title': 'Science & Technology',\n",
              "   'assignable': True}},\n",
              " {'kind': 'youtube#videoCategory',\n",
              "  'etag': '\"m2yskBQFythfE4irbTIeOgYYfBU/lL7uWDr_071CHxifjYG1tJrp4Uo\"',\n",
              "  'id': '30',\n",
              "  'snippet': {'channelId': 'UCBR8-60-B28hp2BmDPdntcQ',\n",
              "   'title': 'Movies',\n",
              "   'assignable': False}},\n",
              " {'kind': 'youtube#videoCategory',\n",
              "  'etag': '\"m2yskBQFythfE4irbTIeOgYYfBU/WnuVfjO-PyFLO7NTRQIbrGE62nk\"',\n",
              "  'id': '31',\n",
              "  'snippet': {'channelId': 'UCBR8-60-B28hp2BmDPdntcQ',\n",
              "   'title': 'Anime/Animation',\n",
              "   'assignable': False}},\n",
              " {'kind': 'youtube#videoCategory',\n",
              "  'etag': '\"m2yskBQFythfE4irbTIeOgYYfBU/ctpH2hGA_UZ3volJT_FTlOg9M00\"',\n",
              "  'id': '32',\n",
              "  'snippet': {'channelId': 'UCBR8-60-B28hp2BmDPdntcQ',\n",
              "   'title': 'Action/Adventure',\n",
              "   'assignable': False}},\n",
              " {'kind': 'youtube#videoCategory',\n",
              "  'etag': '\"m2yskBQFythfE4irbTIeOgYYfBU/L0kR3-g1BAo5UD1PLVbQ7LkkDtQ\"',\n",
              "  'id': '33',\n",
              "  'snippet': {'channelId': 'UCBR8-60-B28hp2BmDPdntcQ',\n",
              "   'title': 'Classics',\n",
              "   'assignable': False}},\n",
              " {'kind': 'youtube#videoCategory',\n",
              "  'etag': '\"m2yskBQFythfE4irbTIeOgYYfBU/pUZOAC_s9sfiwar639qr_wAB-aI\"',\n",
              "  'id': '34',\n",
              "  'snippet': {'channelId': 'UCBR8-60-B28hp2BmDPdntcQ',\n",
              "   'title': 'Comedy',\n",
              "   'assignable': False}},\n",
              " {'kind': 'youtube#videoCategory',\n",
              "  'etag': '\"m2yskBQFythfE4irbTIeOgYYfBU/Xb5JLhtyNRN3AQq021Ds-OV50Jk\"',\n",
              "  'id': '35',\n",
              "  'snippet': {'channelId': 'UCBR8-60-B28hp2BmDPdntcQ',\n",
              "   'title': 'Documentary',\n",
              "   'assignable': False}},\n",
              " {'kind': 'youtube#videoCategory',\n",
              "  'etag': '\"m2yskBQFythfE4irbTIeOgYYfBU/u8WXzF4HIhtEi805__sqjuA4lEk\"',\n",
              "  'id': '36',\n",
              "  'snippet': {'channelId': 'UCBR8-60-B28hp2BmDPdntcQ',\n",
              "   'title': 'Drama',\n",
              "   'assignable': False}},\n",
              " {'kind': 'youtube#videoCategory',\n",
              "  'etag': '\"m2yskBQFythfE4irbTIeOgYYfBU/D04PP4Gr7wc4IV_O9G66Z4A8KWQ\"',\n",
              "  'id': '37',\n",
              "  'snippet': {'channelId': 'UCBR8-60-B28hp2BmDPdntcQ',\n",
              "   'title': 'Family',\n",
              "   'assignable': False}},\n",
              " {'kind': 'youtube#videoCategory',\n",
              "  'etag': '\"m2yskBQFythfE4irbTIeOgYYfBU/i5-_AceGXQCEEMWU0V8CcQm_vLQ\"',\n",
              "  'id': '38',\n",
              "  'snippet': {'channelId': 'UCBR8-60-B28hp2BmDPdntcQ',\n",
              "   'title': 'Foreign',\n",
              "   'assignable': False}},\n",
              " {'kind': 'youtube#videoCategory',\n",
              "  'etag': '\"m2yskBQFythfE4irbTIeOgYYfBU/rtlxd0zOixA9QHdIZB26-St5qgQ\"',\n",
              "  'id': '39',\n",
              "  'snippet': {'channelId': 'UCBR8-60-B28hp2BmDPdntcQ',\n",
              "   'title': 'Horror',\n",
              "   'assignable': False}},\n",
              " {'kind': 'youtube#videoCategory',\n",
              "  'etag': '\"m2yskBQFythfE4irbTIeOgYYfBU/N1TrDFLRppxZgBowCJfJCvh0Dpg\"',\n",
              "  'id': '40',\n",
              "  'snippet': {'channelId': 'UCBR8-60-B28hp2BmDPdntcQ',\n",
              "   'title': 'Sci-Fi/Fantasy',\n",
              "   'assignable': False}},\n",
              " {'kind': 'youtube#videoCategory',\n",
              "  'etag': '\"m2yskBQFythfE4irbTIeOgYYfBU/7UMGi6zRySqXopr_rv4sZq6Za2E\"',\n",
              "  'id': '41',\n",
              "  'snippet': {'channelId': 'UCBR8-60-B28hp2BmDPdntcQ',\n",
              "   'title': 'Thriller',\n",
              "   'assignable': False}},\n",
              " {'kind': 'youtube#videoCategory',\n",
              "  'etag': '\"m2yskBQFythfE4irbTIeOgYYfBU/RScXhi324h8usyIetreAVb-uKeM\"',\n",
              "  'id': '42',\n",
              "  'snippet': {'channelId': 'UCBR8-60-B28hp2BmDPdntcQ',\n",
              "   'title': 'Shorts',\n",
              "   'assignable': False}},\n",
              " {'kind': 'youtube#videoCategory',\n",
              "  'etag': '\"m2yskBQFythfE4irbTIeOgYYfBU/0n9MJVCDLpA8q7aiGVrFsuFsd0A\"',\n",
              "  'id': '43',\n",
              "  'snippet': {'channelId': 'UCBR8-60-B28hp2BmDPdntcQ',\n",
              "   'title': 'Shows',\n",
              "   'assignable': False}},\n",
              " {'kind': 'youtube#videoCategory',\n",
              "  'etag': '\"m2yskBQFythfE4irbTIeOgYYfBU/x5NxSf5fz8hn4loSN4rvhwzD_pY\"',\n",
              "  'id': '44',\n",
              "  'snippet': {'channelId': 'UCBR8-60-B28hp2BmDPdntcQ',\n",
              "   'title': 'Trailers',\n",
              "   'assignable': False}}]"
            ]
          },
          "metadata": {},
          "execution_count": 55
        }
      ]
    },
    {
      "cell_type": "code",
      "source": [
        "cat_list = []\n",
        "for i in cat['items']:\n",
        "\n",
        "  cat_list.append((int(i['id']),i['snippet']['title']))\n",
        "  "
      ],
      "metadata": {
        "id": "ipOCKaVCAKTf"
      },
      "execution_count": 56,
      "outputs": []
    },
    {
      "cell_type": "code",
      "source": [
        "cat_list"
      ],
      "metadata": {
        "colab": {
          "base_uri": "https://localhost:8080/"
        },
        "id": "J_acM24-Bvgd",
        "outputId": "63cdc3a7-f2c4-4a4b-d014-f7d298d4ba52"
      },
      "execution_count": 57,
      "outputs": [
        {
          "output_type": "execute_result",
          "data": {
            "text/plain": [
              "[(1, 'Film & Animation'),\n",
              " (2, 'Autos & Vehicles'),\n",
              " (10, 'Music'),\n",
              " (15, 'Pets & Animals'),\n",
              " (17, 'Sports'),\n",
              " (18, 'Short Movies'),\n",
              " (19, 'Travel & Events'),\n",
              " (20, 'Gaming'),\n",
              " (21, 'Videoblogging'),\n",
              " (22, 'People & Blogs'),\n",
              " (23, 'Comedy'),\n",
              " (24, 'Entertainment'),\n",
              " (25, 'News & Politics'),\n",
              " (26, 'Howto & Style'),\n",
              " (27, 'Education'),\n",
              " (28, 'Science & Technology'),\n",
              " (30, 'Movies'),\n",
              " (31, 'Anime/Animation'),\n",
              " (32, 'Action/Adventure'),\n",
              " (33, 'Classics'),\n",
              " (34, 'Comedy'),\n",
              " (35, 'Documentary'),\n",
              " (36, 'Drama'),\n",
              " (37, 'Family'),\n",
              " (38, 'Foreign'),\n",
              " (39, 'Horror'),\n",
              " (40, 'Sci-Fi/Fantasy'),\n",
              " (41, 'Thriller'),\n",
              " (42, 'Shorts'),\n",
              " (43, 'Shows'),\n",
              " (44, 'Trailers')]"
            ]
          },
          "metadata": {},
          "execution_count": 57
        }
      ]
    },
    {
      "cell_type": "code",
      "source": [
        "cat_df = pd.DataFrame(data = cat_list,columns=['id','category'],index = None)"
      ],
      "metadata": {
        "id": "wy2QwWgVBwsa"
      },
      "execution_count": 58,
      "outputs": []
    },
    {
      "cell_type": "code",
      "source": [
        "gb_video_df_category = gb_video_df.merge(cat_df,left_on='category_id',right_on ='id' )"
      ],
      "metadata": {
        "id": "jcWObrctE620"
      },
      "execution_count": 59,
      "outputs": []
    },
    {
      "cell_type": "code",
      "source": [
        "gb_video_df_category_split = gb_video_df_category[(gb_video_df_category['category']=='Sports') | (gb_video_df_category['category']=='Comedy')]"
      ],
      "metadata": {
        "id": "wS_2qS5RGA2Z"
      },
      "execution_count": 60,
      "outputs": []
    },
    {
      "cell_type": "code",
      "source": [
        "gb_video_df_category_split['total_views'] = gb_video_df_category_split['views'].groupby([gb_video_df_category_split['trending_dt'],gb_video_df_category_split['category']]).transform('sum')"
      ],
      "metadata": {
        "colab": {
          "base_uri": "https://localhost:8080/"
        },
        "id": "uJJBp7JmGm2c",
        "outputId": "59318311-83db-4b9a-a698-97da6dcdaf92"
      },
      "execution_count": 61,
      "outputs": [
        {
          "output_type": "stream",
          "name": "stderr",
          "text": [
            "/usr/local/lib/python3.7/dist-packages/ipykernel_launcher.py:1: SettingWithCopyWarning: \n",
            "A value is trying to be set on a copy of a slice from a DataFrame.\n",
            "Try using .loc[row_indexer,col_indexer] = value instead\n",
            "\n",
            "See the caveats in the documentation: https://pandas.pydata.org/pandas-docs/stable/user_guide/indexing.html#returning-a-view-versus-a-copy\n",
            "  \"\"\"Entry point for launching an IPython kernel.\n"
          ]
        }
      ]
    },
    {
      "cell_type": "code",
      "source": [
        "gb_video_df_category_split = gb_video_df_category_split.drop_duplicates(subset=['trending_dt','category'])"
      ],
      "metadata": {
        "id": "p91aAFZWHfFM"
      },
      "execution_count": 62,
      "outputs": []
    },
    {
      "cell_type": "code",
      "source": [
        "gb_video_df_category_split_sport = gb_video_df_category_split[gb_video_df_category_split['category']=='Sports'] "
      ],
      "metadata": {
        "id": "HrCRvEVZLIHK"
      },
      "execution_count": 63,
      "outputs": []
    },
    {
      "cell_type": "code",
      "source": [
        "gb_video_df_category_split_comedy = gb_video_df_category_split[gb_video_df_category_split['category']=='Comedy'] "
      ],
      "metadata": {
        "id": "srXhgAkSjwzv"
      },
      "execution_count": 64,
      "outputs": []
    },
    {
      "cell_type": "code",
      "source": [
        "gb_video_df_category_split_sport = gb_video_df_category_split_sport[['category','trending_dt','total_views']]\n",
        "gb_video_df_category_split_comedy = gb_video_df_category_split_comedy[['category','trending_dt','total_views']]"
      ],
      "metadata": {
        "id": "nPTyvV2_zUnp"
      },
      "execution_count": 65,
      "outputs": []
    },
    {
      "cell_type": "code",
      "source": [
        "gb_video_df_category_split_sport"
      ],
      "metadata": {
        "id": "PEvBo5bNznlM",
        "colab": {
          "base_uri": "https://localhost:8080/",
          "height": 424
        },
        "outputId": "8989d345-dbee-41a6-e1ef-d6d10101bf65"
      },
      "execution_count": 66,
      "outputs": [
        {
          "output_type": "execute_result",
          "data": {
            "text/plain": [
              "      category               trending_dt  total_views\n",
              "24683   Sports 2017-11-14 00:00:00+00:00      7541011\n",
              "24697   Sports 2017-11-15 00:00:00+00:00      7565452\n",
              "24713   Sports 2017-11-16 00:00:00+00:00      7394861\n",
              "24730   Sports 2017-11-17 00:00:00+00:00      3990774\n",
              "24746   Sports 2017-11-18 00:00:00+00:00      3437845\n",
              "...        ...                       ...          ...\n",
              "26547   Sports 2018-06-10 00:00:00+00:00     17861820\n",
              "26553   Sports 2018-06-11 00:00:00+00:00     18182671\n",
              "26559   Sports 2018-06-12 00:00:00+00:00     19632485\n",
              "26568   Sports 2018-06-13 00:00:00+00:00     20467322\n",
              "26576   Sports 2018-06-14 00:00:00+00:00     22132094\n",
              "\n",
              "[205 rows x 3 columns]"
            ],
            "text/html": [
              "\n",
              "  <div id=\"df-5116886b-7020-4162-b552-653cd5736ae2\">\n",
              "    <div class=\"colab-df-container\">\n",
              "      <div>\n",
              "<style scoped>\n",
              "    .dataframe tbody tr th:only-of-type {\n",
              "        vertical-align: middle;\n",
              "    }\n",
              "\n",
              "    .dataframe tbody tr th {\n",
              "        vertical-align: top;\n",
              "    }\n",
              "\n",
              "    .dataframe thead th {\n",
              "        text-align: right;\n",
              "    }\n",
              "</style>\n",
              "<table border=\"1\" class=\"dataframe\">\n",
              "  <thead>\n",
              "    <tr style=\"text-align: right;\">\n",
              "      <th></th>\n",
              "      <th>category</th>\n",
              "      <th>trending_dt</th>\n",
              "      <th>total_views</th>\n",
              "    </tr>\n",
              "  </thead>\n",
              "  <tbody>\n",
              "    <tr>\n",
              "      <th>24683</th>\n",
              "      <td>Sports</td>\n",
              "      <td>2017-11-14 00:00:00+00:00</td>\n",
              "      <td>7541011</td>\n",
              "    </tr>\n",
              "    <tr>\n",
              "      <th>24697</th>\n",
              "      <td>Sports</td>\n",
              "      <td>2017-11-15 00:00:00+00:00</td>\n",
              "      <td>7565452</td>\n",
              "    </tr>\n",
              "    <tr>\n",
              "      <th>24713</th>\n",
              "      <td>Sports</td>\n",
              "      <td>2017-11-16 00:00:00+00:00</td>\n",
              "      <td>7394861</td>\n",
              "    </tr>\n",
              "    <tr>\n",
              "      <th>24730</th>\n",
              "      <td>Sports</td>\n",
              "      <td>2017-11-17 00:00:00+00:00</td>\n",
              "      <td>3990774</td>\n",
              "    </tr>\n",
              "    <tr>\n",
              "      <th>24746</th>\n",
              "      <td>Sports</td>\n",
              "      <td>2017-11-18 00:00:00+00:00</td>\n",
              "      <td>3437845</td>\n",
              "    </tr>\n",
              "    <tr>\n",
              "      <th>...</th>\n",
              "      <td>...</td>\n",
              "      <td>...</td>\n",
              "      <td>...</td>\n",
              "    </tr>\n",
              "    <tr>\n",
              "      <th>26547</th>\n",
              "      <td>Sports</td>\n",
              "      <td>2018-06-10 00:00:00+00:00</td>\n",
              "      <td>17861820</td>\n",
              "    </tr>\n",
              "    <tr>\n",
              "      <th>26553</th>\n",
              "      <td>Sports</td>\n",
              "      <td>2018-06-11 00:00:00+00:00</td>\n",
              "      <td>18182671</td>\n",
              "    </tr>\n",
              "    <tr>\n",
              "      <th>26559</th>\n",
              "      <td>Sports</td>\n",
              "      <td>2018-06-12 00:00:00+00:00</td>\n",
              "      <td>19632485</td>\n",
              "    </tr>\n",
              "    <tr>\n",
              "      <th>26568</th>\n",
              "      <td>Sports</td>\n",
              "      <td>2018-06-13 00:00:00+00:00</td>\n",
              "      <td>20467322</td>\n",
              "    </tr>\n",
              "    <tr>\n",
              "      <th>26576</th>\n",
              "      <td>Sports</td>\n",
              "      <td>2018-06-14 00:00:00+00:00</td>\n",
              "      <td>22132094</td>\n",
              "    </tr>\n",
              "  </tbody>\n",
              "</table>\n",
              "<p>205 rows × 3 columns</p>\n",
              "</div>\n",
              "      <button class=\"colab-df-convert\" onclick=\"convertToInteractive('df-5116886b-7020-4162-b552-653cd5736ae2')\"\n",
              "              title=\"Convert this dataframe to an interactive table.\"\n",
              "              style=\"display:none;\">\n",
              "        \n",
              "  <svg xmlns=\"http://www.w3.org/2000/svg\" height=\"24px\"viewBox=\"0 0 24 24\"\n",
              "       width=\"24px\">\n",
              "    <path d=\"M0 0h24v24H0V0z\" fill=\"none\"/>\n",
              "    <path d=\"M18.56 5.44l.94 2.06.94-2.06 2.06-.94-2.06-.94-.94-2.06-.94 2.06-2.06.94zm-11 1L8.5 8.5l.94-2.06 2.06-.94-2.06-.94L8.5 2.5l-.94 2.06-2.06.94zm10 10l.94 2.06.94-2.06 2.06-.94-2.06-.94-.94-2.06-.94 2.06-2.06.94z\"/><path d=\"M17.41 7.96l-1.37-1.37c-.4-.4-.92-.59-1.43-.59-.52 0-1.04.2-1.43.59L10.3 9.45l-7.72 7.72c-.78.78-.78 2.05 0 2.83L4 21.41c.39.39.9.59 1.41.59.51 0 1.02-.2 1.41-.59l7.78-7.78 2.81-2.81c.8-.78.8-2.07 0-2.86zM5.41 20L4 18.59l7.72-7.72 1.47 1.35L5.41 20z\"/>\n",
              "  </svg>\n",
              "      </button>\n",
              "      \n",
              "  <style>\n",
              "    .colab-df-container {\n",
              "      display:flex;\n",
              "      flex-wrap:wrap;\n",
              "      gap: 12px;\n",
              "    }\n",
              "\n",
              "    .colab-df-convert {\n",
              "      background-color: #E8F0FE;\n",
              "      border: none;\n",
              "      border-radius: 50%;\n",
              "      cursor: pointer;\n",
              "      display: none;\n",
              "      fill: #1967D2;\n",
              "      height: 32px;\n",
              "      padding: 0 0 0 0;\n",
              "      width: 32px;\n",
              "    }\n",
              "\n",
              "    .colab-df-convert:hover {\n",
              "      background-color: #E2EBFA;\n",
              "      box-shadow: 0px 1px 2px rgba(60, 64, 67, 0.3), 0px 1px 3px 1px rgba(60, 64, 67, 0.15);\n",
              "      fill: #174EA6;\n",
              "    }\n",
              "\n",
              "    [theme=dark] .colab-df-convert {\n",
              "      background-color: #3B4455;\n",
              "      fill: #D2E3FC;\n",
              "    }\n",
              "\n",
              "    [theme=dark] .colab-df-convert:hover {\n",
              "      background-color: #434B5C;\n",
              "      box-shadow: 0px 1px 3px 1px rgba(0, 0, 0, 0.15);\n",
              "      filter: drop-shadow(0px 1px 2px rgba(0, 0, 0, 0.3));\n",
              "      fill: #FFFFFF;\n",
              "    }\n",
              "  </style>\n",
              "\n",
              "      <script>\n",
              "        const buttonEl =\n",
              "          document.querySelector('#df-5116886b-7020-4162-b552-653cd5736ae2 button.colab-df-convert');\n",
              "        buttonEl.style.display =\n",
              "          google.colab.kernel.accessAllowed ? 'block' : 'none';\n",
              "\n",
              "        async function convertToInteractive(key) {\n",
              "          const element = document.querySelector('#df-5116886b-7020-4162-b552-653cd5736ae2');\n",
              "          const dataTable =\n",
              "            await google.colab.kernel.invokeFunction('convertToInteractive',\n",
              "                                                     [key], {});\n",
              "          if (!dataTable) return;\n",
              "\n",
              "          const docLinkHtml = 'Like what you see? Visit the ' +\n",
              "            '<a target=\"_blank\" href=https://colab.research.google.com/notebooks/data_table.ipynb>data table notebook</a>'\n",
              "            + ' to learn more about interactive tables.';\n",
              "          element.innerHTML = '';\n",
              "          dataTable['output_type'] = 'display_data';\n",
              "          await google.colab.output.renderOutput(dataTable, element);\n",
              "          const docLink = document.createElement('div');\n",
              "          docLink.innerHTML = docLinkHtml;\n",
              "          element.appendChild(docLink);\n",
              "        }\n",
              "      </script>\n",
              "    </div>\n",
              "  </div>\n",
              "  "
            ]
          },
          "metadata": {},
          "execution_count": 66
        }
      ]
    },
    {
      "cell_type": "code",
      "source": [
        "gb_video_df_category_split_comedy"
      ],
      "metadata": {
        "colab": {
          "base_uri": "https://localhost:8080/",
          "height": 424
        },
        "id": "vHMAagYgj2y2",
        "outputId": "47336d6c-4687-4f44-f33e-bbdb9c815b62"
      },
      "execution_count": 67,
      "outputs": [
        {
          "output_type": "execute_result",
          "data": {
            "text/plain": [
              "      category               trending_dt  total_views\n",
              "30727   Comedy 2017-11-14 00:00:00+00:00     29712302\n",
              "30741   Comedy 2017-11-15 00:00:00+00:00     17645944\n",
              "30756   Comedy 2017-11-16 00:00:00+00:00     20635677\n",
              "30770   Comedy 2017-11-17 00:00:00+00:00     18904002\n",
              "30783   Comedy 2017-11-18 00:00:00+00:00     16216980\n",
              "...        ...                       ...          ...\n",
              "32504   Comedy 2018-06-10 00:00:00+00:00     22214123\n",
              "32513   Comedy 2018-06-11 00:00:00+00:00     22285272\n",
              "32522   Comedy 2018-06-12 00:00:00+00:00     24797597\n",
              "32530   Comedy 2018-06-13 00:00:00+00:00     23939128\n",
              "32538   Comedy 2018-06-14 00:00:00+00:00     30855759\n",
              "\n",
              "[205 rows x 3 columns]"
            ],
            "text/html": [
              "\n",
              "  <div id=\"df-aeee9a2f-ae99-4944-89d0-274b139e4fd6\">\n",
              "    <div class=\"colab-df-container\">\n",
              "      <div>\n",
              "<style scoped>\n",
              "    .dataframe tbody tr th:only-of-type {\n",
              "        vertical-align: middle;\n",
              "    }\n",
              "\n",
              "    .dataframe tbody tr th {\n",
              "        vertical-align: top;\n",
              "    }\n",
              "\n",
              "    .dataframe thead th {\n",
              "        text-align: right;\n",
              "    }\n",
              "</style>\n",
              "<table border=\"1\" class=\"dataframe\">\n",
              "  <thead>\n",
              "    <tr style=\"text-align: right;\">\n",
              "      <th></th>\n",
              "      <th>category</th>\n",
              "      <th>trending_dt</th>\n",
              "      <th>total_views</th>\n",
              "    </tr>\n",
              "  </thead>\n",
              "  <tbody>\n",
              "    <tr>\n",
              "      <th>30727</th>\n",
              "      <td>Comedy</td>\n",
              "      <td>2017-11-14 00:00:00+00:00</td>\n",
              "      <td>29712302</td>\n",
              "    </tr>\n",
              "    <tr>\n",
              "      <th>30741</th>\n",
              "      <td>Comedy</td>\n",
              "      <td>2017-11-15 00:00:00+00:00</td>\n",
              "      <td>17645944</td>\n",
              "    </tr>\n",
              "    <tr>\n",
              "      <th>30756</th>\n",
              "      <td>Comedy</td>\n",
              "      <td>2017-11-16 00:00:00+00:00</td>\n",
              "      <td>20635677</td>\n",
              "    </tr>\n",
              "    <tr>\n",
              "      <th>30770</th>\n",
              "      <td>Comedy</td>\n",
              "      <td>2017-11-17 00:00:00+00:00</td>\n",
              "      <td>18904002</td>\n",
              "    </tr>\n",
              "    <tr>\n",
              "      <th>30783</th>\n",
              "      <td>Comedy</td>\n",
              "      <td>2017-11-18 00:00:00+00:00</td>\n",
              "      <td>16216980</td>\n",
              "    </tr>\n",
              "    <tr>\n",
              "      <th>...</th>\n",
              "      <td>...</td>\n",
              "      <td>...</td>\n",
              "      <td>...</td>\n",
              "    </tr>\n",
              "    <tr>\n",
              "      <th>32504</th>\n",
              "      <td>Comedy</td>\n",
              "      <td>2018-06-10 00:00:00+00:00</td>\n",
              "      <td>22214123</td>\n",
              "    </tr>\n",
              "    <tr>\n",
              "      <th>32513</th>\n",
              "      <td>Comedy</td>\n",
              "      <td>2018-06-11 00:00:00+00:00</td>\n",
              "      <td>22285272</td>\n",
              "    </tr>\n",
              "    <tr>\n",
              "      <th>32522</th>\n",
              "      <td>Comedy</td>\n",
              "      <td>2018-06-12 00:00:00+00:00</td>\n",
              "      <td>24797597</td>\n",
              "    </tr>\n",
              "    <tr>\n",
              "      <th>32530</th>\n",
              "      <td>Comedy</td>\n",
              "      <td>2018-06-13 00:00:00+00:00</td>\n",
              "      <td>23939128</td>\n",
              "    </tr>\n",
              "    <tr>\n",
              "      <th>32538</th>\n",
              "      <td>Comedy</td>\n",
              "      <td>2018-06-14 00:00:00+00:00</td>\n",
              "      <td>30855759</td>\n",
              "    </tr>\n",
              "  </tbody>\n",
              "</table>\n",
              "<p>205 rows × 3 columns</p>\n",
              "</div>\n",
              "      <button class=\"colab-df-convert\" onclick=\"convertToInteractive('df-aeee9a2f-ae99-4944-89d0-274b139e4fd6')\"\n",
              "              title=\"Convert this dataframe to an interactive table.\"\n",
              "              style=\"display:none;\">\n",
              "        \n",
              "  <svg xmlns=\"http://www.w3.org/2000/svg\" height=\"24px\"viewBox=\"0 0 24 24\"\n",
              "       width=\"24px\">\n",
              "    <path d=\"M0 0h24v24H0V0z\" fill=\"none\"/>\n",
              "    <path d=\"M18.56 5.44l.94 2.06.94-2.06 2.06-.94-2.06-.94-.94-2.06-.94 2.06-2.06.94zm-11 1L8.5 8.5l.94-2.06 2.06-.94-2.06-.94L8.5 2.5l-.94 2.06-2.06.94zm10 10l.94 2.06.94-2.06 2.06-.94-2.06-.94-.94-2.06-.94 2.06-2.06.94z\"/><path d=\"M17.41 7.96l-1.37-1.37c-.4-.4-.92-.59-1.43-.59-.52 0-1.04.2-1.43.59L10.3 9.45l-7.72 7.72c-.78.78-.78 2.05 0 2.83L4 21.41c.39.39.9.59 1.41.59.51 0 1.02-.2 1.41-.59l7.78-7.78 2.81-2.81c.8-.78.8-2.07 0-2.86zM5.41 20L4 18.59l7.72-7.72 1.47 1.35L5.41 20z\"/>\n",
              "  </svg>\n",
              "      </button>\n",
              "      \n",
              "  <style>\n",
              "    .colab-df-container {\n",
              "      display:flex;\n",
              "      flex-wrap:wrap;\n",
              "      gap: 12px;\n",
              "    }\n",
              "\n",
              "    .colab-df-convert {\n",
              "      background-color: #E8F0FE;\n",
              "      border: none;\n",
              "      border-radius: 50%;\n",
              "      cursor: pointer;\n",
              "      display: none;\n",
              "      fill: #1967D2;\n",
              "      height: 32px;\n",
              "      padding: 0 0 0 0;\n",
              "      width: 32px;\n",
              "    }\n",
              "\n",
              "    .colab-df-convert:hover {\n",
              "      background-color: #E2EBFA;\n",
              "      box-shadow: 0px 1px 2px rgba(60, 64, 67, 0.3), 0px 1px 3px 1px rgba(60, 64, 67, 0.15);\n",
              "      fill: #174EA6;\n",
              "    }\n",
              "\n",
              "    [theme=dark] .colab-df-convert {\n",
              "      background-color: #3B4455;\n",
              "      fill: #D2E3FC;\n",
              "    }\n",
              "\n",
              "    [theme=dark] .colab-df-convert:hover {\n",
              "      background-color: #434B5C;\n",
              "      box-shadow: 0px 1px 3px 1px rgba(0, 0, 0, 0.15);\n",
              "      filter: drop-shadow(0px 1px 2px rgba(0, 0, 0, 0.3));\n",
              "      fill: #FFFFFF;\n",
              "    }\n",
              "  </style>\n",
              "\n",
              "      <script>\n",
              "        const buttonEl =\n",
              "          document.querySelector('#df-aeee9a2f-ae99-4944-89d0-274b139e4fd6 button.colab-df-convert');\n",
              "        buttonEl.style.display =\n",
              "          google.colab.kernel.accessAllowed ? 'block' : 'none';\n",
              "\n",
              "        async function convertToInteractive(key) {\n",
              "          const element = document.querySelector('#df-aeee9a2f-ae99-4944-89d0-274b139e4fd6');\n",
              "          const dataTable =\n",
              "            await google.colab.kernel.invokeFunction('convertToInteractive',\n",
              "                                                     [key], {});\n",
              "          if (!dataTable) return;\n",
              "\n",
              "          const docLinkHtml = 'Like what you see? Visit the ' +\n",
              "            '<a target=\"_blank\" href=https://colab.research.google.com/notebooks/data_table.ipynb>data table notebook</a>'\n",
              "            + ' to learn more about interactive tables.';\n",
              "          element.innerHTML = '';\n",
              "          dataTable['output_type'] = 'display_data';\n",
              "          await google.colab.output.renderOutput(dataTable, element);\n",
              "          const docLink = document.createElement('div');\n",
              "          docLink.innerHTML = docLinkHtml;\n",
              "          element.appendChild(docLink);\n",
              "        }\n",
              "      </script>\n",
              "    </div>\n",
              "  </div>\n",
              "  "
            ]
          },
          "metadata": {},
          "execution_count": 67
        }
      ]
    },
    {
      "cell_type": "code",
      "source": [
        "gb_video_df_category_new_merge = gb_video_df_category_split_sport.merge(gb_video_df_category_split_comedy,left_on='trending_dt',right_on ='trending_dt')"
      ],
      "metadata": {
        "id": "hnYVMniJkXlg"
      },
      "execution_count": 68,
      "outputs": []
    },
    {
      "cell_type": "code",
      "source": [
        "gb_video_df_category_new_merge[gb_video_df_category_new_merge['total_views_x']>gb_video_df_category_new_merge['total_views_y']].shape"
      ],
      "metadata": {
        "colab": {
          "base_uri": "https://localhost:8080/"
        },
        "id": "pMRHScuplIRW",
        "outputId": "3a23b13e-f970-4842-deca-19477fb41ce8"
      },
      "execution_count": 69,
      "outputs": [
        {
          "output_type": "execute_result",
          "data": {
            "text/plain": [
              "(49, 5)"
            ]
          },
          "metadata": {},
          "execution_count": 69
        }
      ]
    },
    {
      "cell_type": "code",
      "source": [
        ""
      ],
      "metadata": {
        "id": "Z_V6zghIlJ5o"
      },
      "execution_count": 69,
      "outputs": []
    }
  ],
  "metadata": {
    "kernelspec": {
      "display_name": "Python 3",
      "language": "python",
      "name": "python3"
    },
    "language_info": {
      "codemirror_mode": {
        "name": "ipython",
        "version": 3
      },
      "file_extension": ".py",
      "mimetype": "text/x-python",
      "name": "python",
      "nbconvert_exporter": "python",
      "pygments_lexer": "ipython3",
      "version": "3.7.6"
    },
    "toc": {
      "base_numbering": 1,
      "nav_menu": {},
      "number_sections": true,
      "sideBar": true,
      "skip_h1_title": false,
      "title_cell": "Table of Contents",
      "title_sidebar": "Contents",
      "toc_cell": false,
      "toc_position": {},
      "toc_section_display": true,
      "toc_window_display": false
    },
    "varInspector": {
      "cols": {
        "lenName": 16,
        "lenType": 16,
        "lenVar": 40
      },
      "kernels_config": {
        "python": {
          "delete_cmd_postfix": "",
          "delete_cmd_prefix": "del ",
          "library": "var_list.py",
          "varRefreshCmd": "print(var_dic_list())"
        },
        "r": {
          "delete_cmd_postfix": ") ",
          "delete_cmd_prefix": "rm(",
          "library": "var_list.r",
          "varRefreshCmd": "cat(var_dic_list()) "
        }
      },
      "types_to_exclude": [
        "module",
        "function",
        "builtin_function_or_method",
        "instance",
        "_Feature"
      ],
      "window_display": false
    },
    "colab": {
      "name": "PandasAssignment_6570285721.ipynb",
      "provenance": [],
      "collapsed_sections": []
    }
  },
  "nbformat": 4,
  "nbformat_minor": 0
}